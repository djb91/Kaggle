{
  "cells": [
    {
      "cell_type": "markdown",
      "metadata": {
        "id": "view-in-github",
        "colab_type": "text"
      },
      "source": [
        "<a href=\"https://colab.research.google.com/github/djb91/Kaggle/blob/main/spaceshipTitanic_EDA_articleUpdate.ipynb\" target=\"_parent\"><img src=\"https://colab.research.google.com/assets/colab-badge.svg\" alt=\"Open In Colab\"/></a>"
      ]
    },
    {
      "cell_type": "markdown",
      "id": "775b2e2c",
      "metadata": {
        "id": "775b2e2c",
        "papermill": {
          "duration": 0.032875,
          "end_time": "2022-08-10T12:00:48.981457",
          "exception": false,
          "start_time": "2022-08-10T12:00:48.948582",
          "status": "completed"
        },
        "tags": []
      },
      "source": [
        "# Starting Guide to Spaceship Titanic EDA and Random Forest Model with Evaluation"
      ]
    },
    {
      "cell_type": "markdown",
      "id": "952f7894",
      "metadata": {
        "id": "952f7894",
        "papermill": {
          "duration": 0.02791,
          "end_time": "2022-08-10T12:00:49.037907",
          "exception": false,
          "start_time": "2022-08-10T12:00:49.009997",
          "status": "completed"
        },
        "tags": []
      },
      "source": [
        "## Notebook Description"
      ]
    },
    {
      "cell_type": "markdown",
      "id": "15db50d3",
      "metadata": {
        "id": "15db50d3",
        "papermill": {
          "duration": 0.034465,
          "end_time": "2022-08-10T12:00:49.104880",
          "exception": false,
          "start_time": "2022-08-10T12:00:49.070415",
          "status": "completed"
        },
        "tags": []
      },
      "source": [
        "This notebook provides:\n",
        "* in-depth, feature-by-feature analysis of the Spaceship Titanic data;\n",
        "* data cleaning, preprocessing, and feature engineering;\n",
        "* training a Random Forest model;\n",
        "* evaluating model outputs.\n",
        "\n",
        "\n",
        "Credit to numerous other notebooks that provided inspiration and ideas incorporated here:\n",
        "* [Spaceship Titanic: A Complete Guide](https://www.kaggle.com/code/samuelcortinhas/spaceship-titanic-a-complete-guide)\n",
        "* [Spaceship Titanic EDA, XGBoost 80%+](https://www.kaggle.com/code/eisgandar/spaceship-titanic-eda-xgboost-80)\n",
        "\n",
        "\n",
        "**Please provide feedback in the comments which will help me continue to improve notebooks as I publish them!**"
      ]
    },
    {
      "cell_type": "markdown",
      "id": "12406737",
      "metadata": {
        "id": "12406737",
        "papermill": {
          "duration": 0.029452,
          "end_time": "2022-08-10T12:00:49.170524",
          "exception": false,
          "start_time": "2022-08-10T12:00:49.141072",
          "status": "completed"
        },
        "tags": []
      },
      "source": [
        "## Import Libraries"
      ]
    },
    {
      "cell_type": "code",
      "execution_count": null,
      "id": "a83281c7",
      "metadata": {
        "execution": {
          "iopub.execute_input": "2022-08-10T12:00:49.229453Z",
          "iopub.status.busy": "2022-08-10T12:00:49.228632Z",
          "iopub.status.idle": "2022-08-10T12:00:50.910867Z",
          "shell.execute_reply": "2022-08-10T12:00:50.909616Z"
        },
        "id": "a83281c7",
        "papermill": {
          "duration": 1.715572,
          "end_time": "2022-08-10T12:00:50.914051",
          "exception": false,
          "start_time": "2022-08-10T12:00:49.198479",
          "status": "completed"
        },
        "tags": []
      },
      "outputs": [],
      "source": [
        "# data analysis \n",
        "import numpy as np\n",
        "import pandas as pd\n",
        "pd.set_option('display.max_columns', None)\n",
        "pd.set_option('display.max_rows', None) \n",
        "\n",
        "# data visualization \n",
        "import matplotlib.pyplot as plt  \n",
        "import seaborn as sns\n",
        "\n",
        "# general utilities \n",
        "# !pip install kaggle\n",
        "import os\n",
        "\n",
        "# sklearn tools and models\n",
        "from sklearn.model_selection import GridSearchCV, RandomizedSearchCV\n",
        "from sklearn.ensemble import RandomForestClassifier\n",
        "from sklearn.metrics import accuracy_score, confusion_matrix, classification_report\n",
        "\n"
      ]
    },
    {
      "cell_type": "markdown",
      "id": "59ca6b5c",
      "metadata": {
        "id": "59ca6b5c",
        "papermill": {
          "duration": 0.028694,
          "end_time": "2022-08-10T12:00:50.971575",
          "exception": false,
          "start_time": "2022-08-10T12:00:50.942881",
          "status": "completed"
        },
        "tags": []
      },
      "source": [
        "## Custom Functions\n",
        "\n",
        "*Functions written for use as part of the analysis of this data.*"
      ]
    },
    {
      "cell_type": "code",
      "execution_count": null,
      "id": "8dac45c1",
      "metadata": {
        "execution": {
          "iopub.execute_input": "2022-08-10T12:00:51.030403Z",
          "iopub.status.busy": "2022-08-10T12:00:51.029678Z",
          "iopub.status.idle": "2022-08-10T12:00:51.036832Z",
          "shell.execute_reply": "2022-08-10T12:00:51.035726Z"
        },
        "id": "8dac45c1",
        "papermill": {
          "duration": 0.039095,
          "end_time": "2022-08-10T12:00:51.039239",
          "exception": false,
          "start_time": "2022-08-10T12:00:51.000144",
          "status": "completed"
        },
        "tags": []
      },
      "outputs": [],
      "source": [
        "def missing_pct(data_lst, col):\n",
        "  '''Calculate the percentage of missing values from a feature in\n",
        "      both the train and test dataframes\n",
        "\n",
        "  Args:\n",
        "    data_lst: a list containing train and test dataframes, in that order \n",
        "    col: the specific feature (column) to calculate the missing values\n",
        "  \n",
        "  Returns: Text containing the rounded percentage of missing \n",
        "          features in the train and test data \n",
        "  '''\n",
        "\n",
        "  print(f'Percentage of {col} Missing Values in Training Data:', round(data_lst[0][col].isna().sum() / data_lst[0].shape[0], 3))\n",
        "  print(f'Percentage of {col} Missing Values in Test Data:', round(data_lst[1][col].isna().sum() / data_lst[1].shape[0], 3))\n"
      ]
    },
    {
      "cell_type": "code",
      "execution_count": null,
      "id": "f9056f7b",
      "metadata": {
        "execution": {
          "iopub.execute_input": "2022-08-10T12:00:51.105295Z",
          "iopub.status.busy": "2022-08-10T12:00:51.104493Z",
          "iopub.status.idle": "2022-08-10T12:00:51.112546Z",
          "shell.execute_reply": "2022-08-10T12:00:51.110141Z"
        },
        "id": "f9056f7b",
        "papermill": {
          "duration": 0.043884,
          "end_time": "2022-08-10T12:00:51.115550",
          "exception": false,
          "start_time": "2022-08-10T12:00:51.071666",
          "status": "completed"
        },
        "tags": []
      },
      "outputs": [],
      "source": [
        "def transported_NAs(df, col):\n",
        "  '''Given a feature, determine how many passengers \n",
        "      with NAs were transported\n",
        "      \n",
        "  Args:\n",
        "    df: training df that contains 'Transported' column\n",
        "    col: specific column to test for missing data \n",
        "  \n",
        "  Returns: percentage of passengers with NAs in the col who were transported\n",
        "  '''\n",
        "  print(f'Analyzing {col}:')\n",
        "  print(\n",
        "      round(\n",
        "        df[df[col].isna()][['Transported']]\n",
        "        .mean()\n",
        "        .rename({'Transported':'Percentage of NAs Transported:'}), 3\n",
        "  ))"
      ]
    },
    {
      "cell_type": "code",
      "execution_count": null,
      "id": "5615f9e1",
      "metadata": {
        "execution": {
          "iopub.execute_input": "2022-08-10T12:00:51.189323Z",
          "iopub.status.busy": "2022-08-10T12:00:51.188462Z",
          "iopub.status.idle": "2022-08-10T12:00:51.196140Z",
          "shell.execute_reply": "2022-08-10T12:00:51.195146Z"
        },
        "id": "5615f9e1",
        "papermill": {
          "duration": 0.044046,
          "end_time": "2022-08-10T12:00:51.198516",
          "exception": false,
          "start_time": "2022-08-10T12:00:51.154470",
          "status": "completed"
        },
        "tags": []
      },
      "outputs": [],
      "source": [
        "def plot_categorical_barh(df: pd.DataFrame, \n",
        "                     col: str, \n",
        "                     title: str,\n",
        "                     figsize: tuple = (10,5),\n",
        "                     color: list = ['b']) -> None:\n",
        "  '''Generate hbar plot of one categorical dataframe feature\n",
        "\n",
        "  Args:\n",
        "    df: pandas DataFrame containing the data \n",
        "    col: categorical column to produce the barh chart \n",
        "    title: title of the barh chart \n",
        "    figsize: tuple containing chart dimensions; defaults to (10,5)\n",
        "    color: chart color; defaults to blue \n",
        "\n",
        "  Returns:\n",
        "    no object returned; plots the barh chart \n",
        "  '''\n",
        "  (\n",
        "    df[col]\n",
        "    .value_counts(normalize=True)\n",
        "    .sort_values(ascending=True)\n",
        "    .plot(kind='barh',\n",
        "          figsize=figsize,\n",
        "          title=title,\n",
        "          color=color)\n",
        "  )\n",
        "\n",
        "  plt.show()"
      ]
    },
    {
      "cell_type": "code",
      "execution_count": null,
      "id": "a8ce74f9",
      "metadata": {
        "execution": {
          "iopub.execute_input": "2022-08-10T12:00:51.258263Z",
          "iopub.status.busy": "2022-08-10T12:00:51.257827Z",
          "iopub.status.idle": "2022-08-10T12:00:51.264633Z",
          "shell.execute_reply": "2022-08-10T12:00:51.263503Z"
        },
        "id": "a8ce74f9",
        "papermill": {
          "duration": 0.039443,
          "end_time": "2022-08-10T12:00:51.266793",
          "exception": false,
          "start_time": "2022-08-10T12:00:51.227350",
          "status": "completed"
        },
        "tags": []
      },
      "outputs": [],
      "source": [
        "def plot_transported_pct(df: pd.DataFrame, \n",
        "                         col: str, \n",
        "                         title: str,\n",
        "                         figsize: tuple = (10,5),\n",
        "                         color: str = 'r') -> None:\n",
        "  '''Generate a horizontal bar chart of transported pct for a category\n",
        "\n",
        "  Args:\n",
        "    df: pandas dataframe containing the data \n",
        "    col: column to analyze transported percentage \n",
        "\n",
        "  Returns:\n",
        "    None; plots a chart of the pct of passengers transported\n",
        "  '''\n",
        "  (\n",
        "    df[[col, 'Transported']]\n",
        "    .groupby(col)\n",
        "    .agg('mean')\n",
        "    .sort_values('Transported')\n",
        "    .plot(kind='barh',\n",
        "          figsize=figsize,\n",
        "          color = color,\n",
        "          title=title)\n",
        "  )\n",
        "  plt.show()"
      ]
    },
    {
      "cell_type": "markdown",
      "id": "29b05919",
      "metadata": {
        "id": "29b05919",
        "papermill": {
          "duration": 0.0272,
          "end_time": "2022-08-10T12:00:51.322266",
          "exception": false,
          "start_time": "2022-08-10T12:00:51.295066",
          "status": "completed"
        },
        "tags": []
      },
      "source": [
        "## Import Data "
      ]
    },
    {
      "cell_type": "code",
      "execution_count": null,
      "id": "f1bd3558",
      "metadata": {
        "execution": {
          "iopub.execute_input": "2022-08-10T12:00:51.382726Z",
          "iopub.status.busy": "2022-08-10T12:00:51.381932Z",
          "iopub.status.idle": "2022-08-10T12:00:51.462501Z",
          "shell.execute_reply": "2022-08-10T12:00:51.461112Z"
        },
        "id": "f1bd3558",
        "outputId": "d96bc8d5-aa10-4fa2-c081-f7f017a8af3d",
        "papermill": {
          "duration": 0.115375,
          "end_time": "2022-08-10T12:00:51.466295",
          "exception": false,
          "start_time": "2022-08-10T12:00:51.350920",
          "status": "completed"
        },
        "tags": []
      },
      "outputs": [
        {
          "name": "stdout",
          "output_type": "stream",
          "text": [
            "train dataframe dimensions: (8693, 14)\n",
            "test dataframe dimensions: (4277, 13)\n"
          ]
        }
      ],
      "source": [
        "train_df = pd.read_csv(\"../input/spaceship-titanic/train.csv\")\n",
        "test_df = pd.read_csv(\"../input/spaceship-titanic/test.csv\")\n",
        "\n",
        "print('train dataframe dimensions:', train_df.shape)\n",
        "print('test dataframe dimensions:', test_df.shape)"
      ]
    },
    {
      "cell_type": "code",
      "execution_count": null,
      "id": "37e355e2",
      "metadata": {
        "execution": {
          "iopub.execute_input": "2022-08-10T12:00:51.525486Z",
          "iopub.status.busy": "2022-08-10T12:00:51.525101Z",
          "iopub.status.idle": "2022-08-10T12:00:51.534221Z",
          "shell.execute_reply": "2022-08-10T12:00:51.532996Z"
        },
        "id": "37e355e2",
        "outputId": "187332ea-b9bd-4688-ad6f-7e8a941d687a",
        "papermill": {
          "duration": 0.041265,
          "end_time": "2022-08-10T12:00:51.536690",
          "exception": false,
          "start_time": "2022-08-10T12:00:51.495425",
          "status": "completed"
        },
        "tags": []
      },
      "outputs": [
        {
          "data": {
            "text/plain": [
              "2"
            ]
          },
          "execution_count": 7,
          "metadata": {},
          "output_type": "execute_result"
        }
      ],
      "source": [
        "# combine into a single list\n",
        "full_data = [train_df, test_df]\n",
        "len(full_data)"
      ]
    },
    {
      "cell_type": "markdown",
      "id": "6ab35ba2",
      "metadata": {
        "id": "6ab35ba2",
        "papermill": {
          "duration": 0.027881,
          "end_time": "2022-08-10T12:00:51.592183",
          "exception": false,
          "start_time": "2022-08-10T12:00:51.564302",
          "status": "completed"
        },
        "tags": []
      },
      "source": [
        "##  Exploratory Data Analysis"
      ]
    },
    {
      "cell_type": "markdown",
      "id": "e9f0dea6",
      "metadata": {
        "id": "e9f0dea6",
        "papermill": {
          "duration": 0.027635,
          "end_time": "2022-08-10T12:00:51.648273",
          "exception": false,
          "start_time": "2022-08-10T12:00:51.620638",
          "status": "completed"
        },
        "tags": []
      },
      "source": [
        "### High-Level Data Overview"
      ]
    },
    {
      "cell_type": "markdown",
      "id": "6bfcb9c0",
      "metadata": {
        "id": "6bfcb9c0",
        "papermill": {
          "duration": 0.027194,
          "end_time": "2022-08-10T12:00:51.703116",
          "exception": false,
          "start_time": "2022-08-10T12:00:51.675922",
          "status": "completed"
        },
        "tags": []
      },
      "source": [
        "**Train Data**"
      ]
    },
    {
      "cell_type": "code",
      "execution_count": null,
      "id": "9633eb69",
      "metadata": {
        "execution": {
          "iopub.execute_input": "2022-08-10T12:00:51.761277Z",
          "iopub.status.busy": "2022-08-10T12:00:51.760422Z",
          "iopub.status.idle": "2022-08-10T12:00:51.794485Z",
          "shell.execute_reply": "2022-08-10T12:00:51.792943Z"
        },
        "id": "9633eb69",
        "outputId": "bc3aa42d-5f9d-48b8-9ba2-6b1504633214",
        "papermill": {
          "duration": 0.066939,
          "end_time": "2022-08-10T12:00:51.797814",
          "exception": false,
          "start_time": "2022-08-10T12:00:51.730875",
          "status": "completed"
        },
        "tags": []
      },
      "outputs": [
        {
          "name": "stdout",
          "output_type": "stream",
          "text": [
            "<class 'pandas.core.frame.DataFrame'>\n",
            "RangeIndex: 8693 entries, 0 to 8692\n",
            "Data columns (total 14 columns):\n",
            " #   Column        Non-Null Count  Dtype  \n",
            "---  ------        --------------  -----  \n",
            " 0   PassengerId   8693 non-null   object \n",
            " 1   HomePlanet    8492 non-null   object \n",
            " 2   CryoSleep     8476 non-null   object \n",
            " 3   Cabin         8494 non-null   object \n",
            " 4   Destination   8511 non-null   object \n",
            " 5   Age           8514 non-null   float64\n",
            " 6   VIP           8490 non-null   object \n",
            " 7   RoomService   8512 non-null   float64\n",
            " 8   FoodCourt     8510 non-null   float64\n",
            " 9   ShoppingMall  8485 non-null   float64\n",
            " 10  Spa           8510 non-null   float64\n",
            " 11  VRDeck        8505 non-null   float64\n",
            " 12  Name          8493 non-null   object \n",
            " 13  Transported   8693 non-null   bool   \n",
            "dtypes: bool(1), float64(6), object(7)\n",
            "memory usage: 891.5+ KB\n"
          ]
        }
      ],
      "source": [
        "train_df.info()"
      ]
    },
    {
      "cell_type": "code",
      "execution_count": null,
      "id": "42dfc56d",
      "metadata": {
        "execution": {
          "iopub.execute_input": "2022-08-10T12:00:51.856782Z",
          "iopub.status.busy": "2022-08-10T12:00:51.855527Z",
          "iopub.status.idle": "2022-08-10T12:00:51.880757Z",
          "shell.execute_reply": "2022-08-10T12:00:51.879871Z"
        },
        "id": "42dfc56d",
        "outputId": "752a73e7-ec68-4722-f135-3c105065978c",
        "papermill": {
          "duration": 0.0566,
          "end_time": "2022-08-10T12:00:51.882990",
          "exception": false,
          "start_time": "2022-08-10T12:00:51.826390",
          "status": "completed"
        },
        "tags": []
      },
      "outputs": [
        {
          "data": {
            "text/html": [
              "<div>\n",
              "<style scoped>\n",
              "    .dataframe tbody tr th:only-of-type {\n",
              "        vertical-align: middle;\n",
              "    }\n",
              "\n",
              "    .dataframe tbody tr th {\n",
              "        vertical-align: top;\n",
              "    }\n",
              "\n",
              "    .dataframe thead th {\n",
              "        text-align: right;\n",
              "    }\n",
              "</style>\n",
              "<table border=\"1\" class=\"dataframe\">\n",
              "  <thead>\n",
              "    <tr style=\"text-align: right;\">\n",
              "      <th></th>\n",
              "      <th>PassengerId</th>\n",
              "      <th>HomePlanet</th>\n",
              "      <th>CryoSleep</th>\n",
              "      <th>Cabin</th>\n",
              "      <th>Destination</th>\n",
              "      <th>Age</th>\n",
              "      <th>VIP</th>\n",
              "      <th>RoomService</th>\n",
              "      <th>FoodCourt</th>\n",
              "      <th>ShoppingMall</th>\n",
              "      <th>Spa</th>\n",
              "      <th>VRDeck</th>\n",
              "      <th>Name</th>\n",
              "      <th>Transported</th>\n",
              "    </tr>\n",
              "  </thead>\n",
              "  <tbody>\n",
              "    <tr>\n",
              "      <th>0</th>\n",
              "      <td>0001_01</td>\n",
              "      <td>Europa</td>\n",
              "      <td>False</td>\n",
              "      <td>B/0/P</td>\n",
              "      <td>TRAPPIST-1e</td>\n",
              "      <td>39.0</td>\n",
              "      <td>False</td>\n",
              "      <td>0.0</td>\n",
              "      <td>0.0</td>\n",
              "      <td>0.0</td>\n",
              "      <td>0.0</td>\n",
              "      <td>0.0</td>\n",
              "      <td>Maham Ofracculy</td>\n",
              "      <td>False</td>\n",
              "    </tr>\n",
              "    <tr>\n",
              "      <th>1</th>\n",
              "      <td>0002_01</td>\n",
              "      <td>Earth</td>\n",
              "      <td>False</td>\n",
              "      <td>F/0/S</td>\n",
              "      <td>TRAPPIST-1e</td>\n",
              "      <td>24.0</td>\n",
              "      <td>False</td>\n",
              "      <td>109.0</td>\n",
              "      <td>9.0</td>\n",
              "      <td>25.0</td>\n",
              "      <td>549.0</td>\n",
              "      <td>44.0</td>\n",
              "      <td>Juanna Vines</td>\n",
              "      <td>True</td>\n",
              "    </tr>\n",
              "    <tr>\n",
              "      <th>2</th>\n",
              "      <td>0003_01</td>\n",
              "      <td>Europa</td>\n",
              "      <td>False</td>\n",
              "      <td>A/0/S</td>\n",
              "      <td>TRAPPIST-1e</td>\n",
              "      <td>58.0</td>\n",
              "      <td>True</td>\n",
              "      <td>43.0</td>\n",
              "      <td>3576.0</td>\n",
              "      <td>0.0</td>\n",
              "      <td>6715.0</td>\n",
              "      <td>49.0</td>\n",
              "      <td>Altark Susent</td>\n",
              "      <td>False</td>\n",
              "    </tr>\n",
              "    <tr>\n",
              "      <th>3</th>\n",
              "      <td>0003_02</td>\n",
              "      <td>Europa</td>\n",
              "      <td>False</td>\n",
              "      <td>A/0/S</td>\n",
              "      <td>TRAPPIST-1e</td>\n",
              "      <td>33.0</td>\n",
              "      <td>False</td>\n",
              "      <td>0.0</td>\n",
              "      <td>1283.0</td>\n",
              "      <td>371.0</td>\n",
              "      <td>3329.0</td>\n",
              "      <td>193.0</td>\n",
              "      <td>Solam Susent</td>\n",
              "      <td>False</td>\n",
              "    </tr>\n",
              "    <tr>\n",
              "      <th>4</th>\n",
              "      <td>0004_01</td>\n",
              "      <td>Earth</td>\n",
              "      <td>False</td>\n",
              "      <td>F/1/S</td>\n",
              "      <td>TRAPPIST-1e</td>\n",
              "      <td>16.0</td>\n",
              "      <td>False</td>\n",
              "      <td>303.0</td>\n",
              "      <td>70.0</td>\n",
              "      <td>151.0</td>\n",
              "      <td>565.0</td>\n",
              "      <td>2.0</td>\n",
              "      <td>Willy Santantines</td>\n",
              "      <td>True</td>\n",
              "    </tr>\n",
              "  </tbody>\n",
              "</table>\n",
              "</div>"
            ],
            "text/plain": [
              "  PassengerId HomePlanet CryoSleep  Cabin  Destination   Age    VIP  \\\n",
              "0     0001_01     Europa     False  B/0/P  TRAPPIST-1e  39.0  False   \n",
              "1     0002_01      Earth     False  F/0/S  TRAPPIST-1e  24.0  False   \n",
              "2     0003_01     Europa     False  A/0/S  TRAPPIST-1e  58.0   True   \n",
              "3     0003_02     Europa     False  A/0/S  TRAPPIST-1e  33.0  False   \n",
              "4     0004_01      Earth     False  F/1/S  TRAPPIST-1e  16.0  False   \n",
              "\n",
              "   RoomService  FoodCourt  ShoppingMall     Spa  VRDeck               Name  \\\n",
              "0          0.0        0.0           0.0     0.0     0.0    Maham Ofracculy   \n",
              "1        109.0        9.0          25.0   549.0    44.0       Juanna Vines   \n",
              "2         43.0     3576.0           0.0  6715.0    49.0      Altark Susent   \n",
              "3          0.0     1283.0         371.0  3329.0   193.0       Solam Susent   \n",
              "4        303.0       70.0         151.0   565.0     2.0  Willy Santantines   \n",
              "\n",
              "   Transported  \n",
              "0        False  \n",
              "1         True  \n",
              "2        False  \n",
              "3        False  \n",
              "4         True  "
            ]
          },
          "execution_count": 9,
          "metadata": {},
          "output_type": "execute_result"
        }
      ],
      "source": [
        "train_df.head()"
      ]
    },
    {
      "cell_type": "markdown",
      "id": "c6d8b3e4",
      "metadata": {
        "id": "c6d8b3e4",
        "papermill": {
          "duration": 0.027674,
          "end_time": "2022-08-10T12:00:51.939004",
          "exception": false,
          "start_time": "2022-08-10T12:00:51.911330",
          "status": "completed"
        },
        "tags": []
      },
      "source": [
        "**Test Data**"
      ]
    },
    {
      "cell_type": "code",
      "execution_count": null,
      "id": "140df79f",
      "metadata": {
        "execution": {
          "iopub.execute_input": "2022-08-10T12:00:51.998271Z",
          "iopub.status.busy": "2022-08-10T12:00:51.997480Z",
          "iopub.status.idle": "2022-08-10T12:00:52.011593Z",
          "shell.execute_reply": "2022-08-10T12:00:52.010614Z"
        },
        "id": "140df79f",
        "outputId": "666aed37-61df-4f63-b199-96072748ab0e",
        "papermill": {
          "duration": 0.046637,
          "end_time": "2022-08-10T12:00:52.014425",
          "exception": false,
          "start_time": "2022-08-10T12:00:51.967788",
          "status": "completed"
        },
        "tags": []
      },
      "outputs": [
        {
          "name": "stdout",
          "output_type": "stream",
          "text": [
            "<class 'pandas.core.frame.DataFrame'>\n",
            "RangeIndex: 4277 entries, 0 to 4276\n",
            "Data columns (total 13 columns):\n",
            " #   Column        Non-Null Count  Dtype  \n",
            "---  ------        --------------  -----  \n",
            " 0   PassengerId   4277 non-null   object \n",
            " 1   HomePlanet    4190 non-null   object \n",
            " 2   CryoSleep     4184 non-null   object \n",
            " 3   Cabin         4177 non-null   object \n",
            " 4   Destination   4185 non-null   object \n",
            " 5   Age           4186 non-null   float64\n",
            " 6   VIP           4184 non-null   object \n",
            " 7   RoomService   4195 non-null   float64\n",
            " 8   FoodCourt     4171 non-null   float64\n",
            " 9   ShoppingMall  4179 non-null   float64\n",
            " 10  Spa           4176 non-null   float64\n",
            " 11  VRDeck        4197 non-null   float64\n",
            " 12  Name          4183 non-null   object \n",
            "dtypes: float64(6), object(7)\n",
            "memory usage: 434.5+ KB\n"
          ]
        }
      ],
      "source": [
        "test_df.info()"
      ]
    },
    {
      "cell_type": "code",
      "execution_count": null,
      "id": "995b2846",
      "metadata": {
        "execution": {
          "iopub.execute_input": "2022-08-10T12:00:52.074269Z",
          "iopub.status.busy": "2022-08-10T12:00:52.073522Z",
          "iopub.status.idle": "2022-08-10T12:00:52.093097Z",
          "shell.execute_reply": "2022-08-10T12:00:52.092119Z"
        },
        "id": "995b2846",
        "outputId": "ffaf6c6f-2776-4bed-c2bf-7e451b483611",
        "papermill": {
          "duration": 0.051956,
          "end_time": "2022-08-10T12:00:52.095288",
          "exception": false,
          "start_time": "2022-08-10T12:00:52.043332",
          "status": "completed"
        },
        "tags": []
      },
      "outputs": [
        {
          "data": {
            "text/html": [
              "<div>\n",
              "<style scoped>\n",
              "    .dataframe tbody tr th:only-of-type {\n",
              "        vertical-align: middle;\n",
              "    }\n",
              "\n",
              "    .dataframe tbody tr th {\n",
              "        vertical-align: top;\n",
              "    }\n",
              "\n",
              "    .dataframe thead th {\n",
              "        text-align: right;\n",
              "    }\n",
              "</style>\n",
              "<table border=\"1\" class=\"dataframe\">\n",
              "  <thead>\n",
              "    <tr style=\"text-align: right;\">\n",
              "      <th></th>\n",
              "      <th>PassengerId</th>\n",
              "      <th>HomePlanet</th>\n",
              "      <th>CryoSleep</th>\n",
              "      <th>Cabin</th>\n",
              "      <th>Destination</th>\n",
              "      <th>Age</th>\n",
              "      <th>VIP</th>\n",
              "      <th>RoomService</th>\n",
              "      <th>FoodCourt</th>\n",
              "      <th>ShoppingMall</th>\n",
              "      <th>Spa</th>\n",
              "      <th>VRDeck</th>\n",
              "      <th>Name</th>\n",
              "    </tr>\n",
              "  </thead>\n",
              "  <tbody>\n",
              "    <tr>\n",
              "      <th>0</th>\n",
              "      <td>0013_01</td>\n",
              "      <td>Earth</td>\n",
              "      <td>True</td>\n",
              "      <td>G/3/S</td>\n",
              "      <td>TRAPPIST-1e</td>\n",
              "      <td>27.0</td>\n",
              "      <td>False</td>\n",
              "      <td>0.0</td>\n",
              "      <td>0.0</td>\n",
              "      <td>0.0</td>\n",
              "      <td>0.0</td>\n",
              "      <td>0.0</td>\n",
              "      <td>Nelly Carsoning</td>\n",
              "    </tr>\n",
              "    <tr>\n",
              "      <th>1</th>\n",
              "      <td>0018_01</td>\n",
              "      <td>Earth</td>\n",
              "      <td>False</td>\n",
              "      <td>F/4/S</td>\n",
              "      <td>TRAPPIST-1e</td>\n",
              "      <td>19.0</td>\n",
              "      <td>False</td>\n",
              "      <td>0.0</td>\n",
              "      <td>9.0</td>\n",
              "      <td>0.0</td>\n",
              "      <td>2823.0</td>\n",
              "      <td>0.0</td>\n",
              "      <td>Lerome Peckers</td>\n",
              "    </tr>\n",
              "    <tr>\n",
              "      <th>2</th>\n",
              "      <td>0019_01</td>\n",
              "      <td>Europa</td>\n",
              "      <td>True</td>\n",
              "      <td>C/0/S</td>\n",
              "      <td>55 Cancri e</td>\n",
              "      <td>31.0</td>\n",
              "      <td>False</td>\n",
              "      <td>0.0</td>\n",
              "      <td>0.0</td>\n",
              "      <td>0.0</td>\n",
              "      <td>0.0</td>\n",
              "      <td>0.0</td>\n",
              "      <td>Sabih Unhearfus</td>\n",
              "    </tr>\n",
              "    <tr>\n",
              "      <th>3</th>\n",
              "      <td>0021_01</td>\n",
              "      <td>Europa</td>\n",
              "      <td>False</td>\n",
              "      <td>C/1/S</td>\n",
              "      <td>TRAPPIST-1e</td>\n",
              "      <td>38.0</td>\n",
              "      <td>False</td>\n",
              "      <td>0.0</td>\n",
              "      <td>6652.0</td>\n",
              "      <td>0.0</td>\n",
              "      <td>181.0</td>\n",
              "      <td>585.0</td>\n",
              "      <td>Meratz Caltilter</td>\n",
              "    </tr>\n",
              "    <tr>\n",
              "      <th>4</th>\n",
              "      <td>0023_01</td>\n",
              "      <td>Earth</td>\n",
              "      <td>False</td>\n",
              "      <td>F/5/S</td>\n",
              "      <td>TRAPPIST-1e</td>\n",
              "      <td>20.0</td>\n",
              "      <td>False</td>\n",
              "      <td>10.0</td>\n",
              "      <td>0.0</td>\n",
              "      <td>635.0</td>\n",
              "      <td>0.0</td>\n",
              "      <td>0.0</td>\n",
              "      <td>Brence Harperez</td>\n",
              "    </tr>\n",
              "  </tbody>\n",
              "</table>\n",
              "</div>"
            ],
            "text/plain": [
              "  PassengerId HomePlanet CryoSleep  Cabin  Destination   Age    VIP  \\\n",
              "0     0013_01      Earth      True  G/3/S  TRAPPIST-1e  27.0  False   \n",
              "1     0018_01      Earth     False  F/4/S  TRAPPIST-1e  19.0  False   \n",
              "2     0019_01     Europa      True  C/0/S  55 Cancri e  31.0  False   \n",
              "3     0021_01     Europa     False  C/1/S  TRAPPIST-1e  38.0  False   \n",
              "4     0023_01      Earth     False  F/5/S  TRAPPIST-1e  20.0  False   \n",
              "\n",
              "   RoomService  FoodCourt  ShoppingMall     Spa  VRDeck              Name  \n",
              "0          0.0        0.0           0.0     0.0     0.0   Nelly Carsoning  \n",
              "1          0.0        9.0           0.0  2823.0     0.0    Lerome Peckers  \n",
              "2          0.0        0.0           0.0     0.0     0.0   Sabih Unhearfus  \n",
              "3          0.0     6652.0           0.0   181.0   585.0  Meratz Caltilter  \n",
              "4         10.0        0.0         635.0     0.0     0.0   Brence Harperez  "
            ]
          },
          "execution_count": 11,
          "metadata": {},
          "output_type": "execute_result"
        }
      ],
      "source": [
        "test_df.head()"
      ]
    },
    {
      "cell_type": "markdown",
      "id": "75ea8ffe",
      "metadata": {
        "id": "75ea8ffe",
        "papermill": {
          "duration": 0.028043,
          "end_time": "2022-08-10T12:00:52.151995",
          "exception": false,
          "start_time": "2022-08-10T12:00:52.123952",
          "status": "completed"
        },
        "tags": []
      },
      "source": [
        "**Analysis**\n",
        "* The training data is approximately double the size of the test data, providing an overall breakdown of routhly 2/3 training and 1/3 test.\n",
        "* With such a large test data set, we may need to check if there are any unknown features (i.e., categorical dummy variables) and make sure they are incorporated into the test data as features to prevent modeling errors. \n",
        "* Features in both the train and test data appear to be missing a small percentage of values; no features seem to have substantial missing data."
      ]
    },
    {
      "cell_type": "markdown",
      "id": "f12865dc",
      "metadata": {
        "id": "f12865dc",
        "papermill": {
          "duration": 0.028213,
          "end_time": "2022-08-10T12:00:52.208757",
          "exception": false,
          "start_time": "2022-08-10T12:00:52.180544",
          "status": "completed"
        },
        "tags": []
      },
      "source": [
        "### Descriptive Statistics"
      ]
    },
    {
      "cell_type": "markdown",
      "id": "a9b7a994",
      "metadata": {
        "id": "a9b7a994",
        "papermill": {
          "duration": 0.027962,
          "end_time": "2022-08-10T12:00:52.265197",
          "exception": false,
          "start_time": "2022-08-10T12:00:52.237235",
          "status": "completed"
        },
        "tags": []
      },
      "source": [
        "**Descriptive Statistics -- Quantitative Features**"
      ]
    },
    {
      "cell_type": "code",
      "execution_count": null,
      "id": "a6984e16",
      "metadata": {
        "execution": {
          "iopub.execute_input": "2022-08-10T12:00:52.324458Z",
          "iopub.status.busy": "2022-08-10T12:00:52.323982Z",
          "iopub.status.idle": "2022-08-10T12:00:52.366892Z",
          "shell.execute_reply": "2022-08-10T12:00:52.365515Z"
        },
        "id": "a6984e16",
        "outputId": "2b626c05-fdc3-4836-a64e-622cb6754249",
        "papermill": {
          "duration": 0.075931,
          "end_time": "2022-08-10T12:00:52.369509",
          "exception": false,
          "start_time": "2022-08-10T12:00:52.293578",
          "status": "completed"
        },
        "tags": []
      },
      "outputs": [
        {
          "data": {
            "text/html": [
              "<div>\n",
              "<style scoped>\n",
              "    .dataframe tbody tr th:only-of-type {\n",
              "        vertical-align: middle;\n",
              "    }\n",
              "\n",
              "    .dataframe tbody tr th {\n",
              "        vertical-align: top;\n",
              "    }\n",
              "\n",
              "    .dataframe thead th {\n",
              "        text-align: right;\n",
              "    }\n",
              "</style>\n",
              "<table border=\"1\" class=\"dataframe\">\n",
              "  <thead>\n",
              "    <tr style=\"text-align: right;\">\n",
              "      <th></th>\n",
              "      <th>count</th>\n",
              "      <th>mean</th>\n",
              "      <th>std</th>\n",
              "      <th>min</th>\n",
              "      <th>25%</th>\n",
              "      <th>50%</th>\n",
              "      <th>75%</th>\n",
              "      <th>max</th>\n",
              "    </tr>\n",
              "  </thead>\n",
              "  <tbody>\n",
              "    <tr>\n",
              "      <th>Age</th>\n",
              "      <td>8514.0</td>\n",
              "      <td>29.0</td>\n",
              "      <td>14.0</td>\n",
              "      <td>0.0</td>\n",
              "      <td>19.0</td>\n",
              "      <td>27.0</td>\n",
              "      <td>38.0</td>\n",
              "      <td>79.0</td>\n",
              "    </tr>\n",
              "    <tr>\n",
              "      <th>RoomService</th>\n",
              "      <td>8512.0</td>\n",
              "      <td>225.0</td>\n",
              "      <td>667.0</td>\n",
              "      <td>0.0</td>\n",
              "      <td>0.0</td>\n",
              "      <td>0.0</td>\n",
              "      <td>47.0</td>\n",
              "      <td>14327.0</td>\n",
              "    </tr>\n",
              "    <tr>\n",
              "      <th>FoodCourt</th>\n",
              "      <td>8510.0</td>\n",
              "      <td>458.0</td>\n",
              "      <td>1611.0</td>\n",
              "      <td>0.0</td>\n",
              "      <td>0.0</td>\n",
              "      <td>0.0</td>\n",
              "      <td>76.0</td>\n",
              "      <td>29813.0</td>\n",
              "    </tr>\n",
              "    <tr>\n",
              "      <th>ShoppingMall</th>\n",
              "      <td>8485.0</td>\n",
              "      <td>174.0</td>\n",
              "      <td>605.0</td>\n",
              "      <td>0.0</td>\n",
              "      <td>0.0</td>\n",
              "      <td>0.0</td>\n",
              "      <td>27.0</td>\n",
              "      <td>23492.0</td>\n",
              "    </tr>\n",
              "    <tr>\n",
              "      <th>Spa</th>\n",
              "      <td>8510.0</td>\n",
              "      <td>311.0</td>\n",
              "      <td>1137.0</td>\n",
              "      <td>0.0</td>\n",
              "      <td>0.0</td>\n",
              "      <td>0.0</td>\n",
              "      <td>59.0</td>\n",
              "      <td>22408.0</td>\n",
              "    </tr>\n",
              "    <tr>\n",
              "      <th>VRDeck</th>\n",
              "      <td>8505.0</td>\n",
              "      <td>305.0</td>\n",
              "      <td>1146.0</td>\n",
              "      <td>0.0</td>\n",
              "      <td>0.0</td>\n",
              "      <td>0.0</td>\n",
              "      <td>46.0</td>\n",
              "      <td>24133.0</td>\n",
              "    </tr>\n",
              "  </tbody>\n",
              "</table>\n",
              "</div>"
            ],
            "text/plain": [
              "               count   mean     std  min   25%   50%   75%      max\n",
              "Age           8514.0   29.0    14.0  0.0  19.0  27.0  38.0     79.0\n",
              "RoomService   8512.0  225.0   667.0  0.0   0.0   0.0  47.0  14327.0\n",
              "FoodCourt     8510.0  458.0  1611.0  0.0   0.0   0.0  76.0  29813.0\n",
              "ShoppingMall  8485.0  174.0   605.0  0.0   0.0   0.0  27.0  23492.0\n",
              "Spa           8510.0  311.0  1137.0  0.0   0.0   0.0  59.0  22408.0\n",
              "VRDeck        8505.0  305.0  1146.0  0.0   0.0   0.0  46.0  24133.0"
            ]
          },
          "execution_count": 12,
          "metadata": {},
          "output_type": "execute_result"
        }
      ],
      "source": [
        "train_df.describe().round().T"
      ]
    },
    {
      "cell_type": "code",
      "execution_count": null,
      "id": "c9da9ee8",
      "metadata": {
        "execution": {
          "iopub.execute_input": "2022-08-10T12:00:52.429576Z",
          "iopub.status.busy": "2022-08-10T12:00:52.428740Z",
          "iopub.status.idle": "2022-08-10T12:00:52.466367Z",
          "shell.execute_reply": "2022-08-10T12:00:52.464962Z"
        },
        "id": "c9da9ee8",
        "outputId": "5ac19b30-e003-4469-fb53-832718bd43f5",
        "papermill": {
          "duration": 0.070782,
          "end_time": "2022-08-10T12:00:52.469210",
          "exception": false,
          "start_time": "2022-08-10T12:00:52.398428",
          "status": "completed"
        },
        "tags": []
      },
      "outputs": [
        {
          "data": {
            "text/html": [
              "<div>\n",
              "<style scoped>\n",
              "    .dataframe tbody tr th:only-of-type {\n",
              "        vertical-align: middle;\n",
              "    }\n",
              "\n",
              "    .dataframe tbody tr th {\n",
              "        vertical-align: top;\n",
              "    }\n",
              "\n",
              "    .dataframe thead th {\n",
              "        text-align: right;\n",
              "    }\n",
              "</style>\n",
              "<table border=\"1\" class=\"dataframe\">\n",
              "  <thead>\n",
              "    <tr style=\"text-align: right;\">\n",
              "      <th></th>\n",
              "      <th>count</th>\n",
              "      <th>mean</th>\n",
              "      <th>std</th>\n",
              "      <th>min</th>\n",
              "      <th>25%</th>\n",
              "      <th>50%</th>\n",
              "      <th>75%</th>\n",
              "      <th>max</th>\n",
              "    </tr>\n",
              "  </thead>\n",
              "  <tbody>\n",
              "    <tr>\n",
              "      <th>Age</th>\n",
              "      <td>4186.0</td>\n",
              "      <td>29.0</td>\n",
              "      <td>14.0</td>\n",
              "      <td>0.0</td>\n",
              "      <td>19.0</td>\n",
              "      <td>26.0</td>\n",
              "      <td>37.0</td>\n",
              "      <td>79.0</td>\n",
              "    </tr>\n",
              "    <tr>\n",
              "      <th>RoomService</th>\n",
              "      <td>4195.0</td>\n",
              "      <td>219.0</td>\n",
              "      <td>607.0</td>\n",
              "      <td>0.0</td>\n",
              "      <td>0.0</td>\n",
              "      <td>0.0</td>\n",
              "      <td>53.0</td>\n",
              "      <td>11567.0</td>\n",
              "    </tr>\n",
              "    <tr>\n",
              "      <th>FoodCourt</th>\n",
              "      <td>4171.0</td>\n",
              "      <td>439.0</td>\n",
              "      <td>1528.0</td>\n",
              "      <td>0.0</td>\n",
              "      <td>0.0</td>\n",
              "      <td>0.0</td>\n",
              "      <td>78.0</td>\n",
              "      <td>25273.0</td>\n",
              "    </tr>\n",
              "    <tr>\n",
              "      <th>ShoppingMall</th>\n",
              "      <td>4179.0</td>\n",
              "      <td>177.0</td>\n",
              "      <td>561.0</td>\n",
              "      <td>0.0</td>\n",
              "      <td>0.0</td>\n",
              "      <td>0.0</td>\n",
              "      <td>33.0</td>\n",
              "      <td>8292.0</td>\n",
              "    </tr>\n",
              "    <tr>\n",
              "      <th>Spa</th>\n",
              "      <td>4176.0</td>\n",
              "      <td>303.0</td>\n",
              "      <td>1117.0</td>\n",
              "      <td>0.0</td>\n",
              "      <td>0.0</td>\n",
              "      <td>0.0</td>\n",
              "      <td>50.0</td>\n",
              "      <td>19844.0</td>\n",
              "    </tr>\n",
              "    <tr>\n",
              "      <th>VRDeck</th>\n",
              "      <td>4197.0</td>\n",
              "      <td>311.0</td>\n",
              "      <td>1247.0</td>\n",
              "      <td>0.0</td>\n",
              "      <td>0.0</td>\n",
              "      <td>0.0</td>\n",
              "      <td>36.0</td>\n",
              "      <td>22272.0</td>\n",
              "    </tr>\n",
              "  </tbody>\n",
              "</table>\n",
              "</div>"
            ],
            "text/plain": [
              "               count   mean     std  min   25%   50%   75%      max\n",
              "Age           4186.0   29.0    14.0  0.0  19.0  26.0  37.0     79.0\n",
              "RoomService   4195.0  219.0   607.0  0.0   0.0   0.0  53.0  11567.0\n",
              "FoodCourt     4171.0  439.0  1528.0  0.0   0.0   0.0  78.0  25273.0\n",
              "ShoppingMall  4179.0  177.0   561.0  0.0   0.0   0.0  33.0   8292.0\n",
              "Spa           4176.0  303.0  1117.0  0.0   0.0   0.0  50.0  19844.0\n",
              "VRDeck        4197.0  311.0  1247.0  0.0   0.0   0.0  36.0  22272.0"
            ]
          },
          "execution_count": 13,
          "metadata": {},
          "output_type": "execute_result"
        }
      ],
      "source": [
        "test_df.describe().round().T"
      ]
    },
    {
      "cell_type": "markdown",
      "id": "6bb89398",
      "metadata": {
        "id": "6bb89398",
        "papermill": {
          "duration": 0.030592,
          "end_time": "2022-08-10T12:00:52.529808",
          "exception": false,
          "start_time": "2022-08-10T12:00:52.499216",
          "status": "completed"
        },
        "tags": []
      },
      "source": [
        "*Analysis of Training Data:*\n",
        "* Age: The youngest passenger is 0 years old, which could be an error or represent a newborn. The oldest is 79 with the mean being 29 and the median being 27 (indicating a slight skew). The train and test data sets are similar in this regard.\n",
        "* Spend Categories: Based on the median values being zero, most passengers don't seem to spend in the various locations. The data also appear to be skewed due to passengers who spend relatively large amounts in each of the categories.\n",
        "  * The test data spend amounts are generally lower than the train data across the board.\n",
        "  * In the test data the max ShoppingMall amount is only 8,292, which is far lower than the max of 23,492 in the train data. "
      ]
    },
    {
      "cell_type": "markdown",
      "id": "78e29486",
      "metadata": {
        "id": "78e29486",
        "papermill": {
          "duration": 0.030225,
          "end_time": "2022-08-10T12:00:52.589979",
          "exception": false,
          "start_time": "2022-08-10T12:00:52.559754",
          "status": "completed"
        },
        "tags": []
      },
      "source": [
        "**Descriptive Statistics -- Categorical Data**"
      ]
    },
    {
      "cell_type": "code",
      "execution_count": null,
      "id": "8f0eb3cc",
      "metadata": {
        "execution": {
          "iopub.execute_input": "2022-08-10T12:00:52.653305Z",
          "iopub.status.busy": "2022-08-10T12:00:52.652513Z",
          "iopub.status.idle": "2022-08-10T12:00:52.693758Z",
          "shell.execute_reply": "2022-08-10T12:00:52.692457Z"
        },
        "id": "8f0eb3cc",
        "outputId": "4b6bc88a-dbde-4c06-d6ad-b4b50316af35",
        "papermill": {
          "duration": 0.076753,
          "end_time": "2022-08-10T12:00:52.696521",
          "exception": false,
          "start_time": "2022-08-10T12:00:52.619768",
          "status": "completed"
        },
        "tags": []
      },
      "outputs": [
        {
          "data": {
            "text/html": [
              "<div>\n",
              "<style scoped>\n",
              "    .dataframe tbody tr th:only-of-type {\n",
              "        vertical-align: middle;\n",
              "    }\n",
              "\n",
              "    .dataframe tbody tr th {\n",
              "        vertical-align: top;\n",
              "    }\n",
              "\n",
              "    .dataframe thead th {\n",
              "        text-align: right;\n",
              "    }\n",
              "</style>\n",
              "<table border=\"1\" class=\"dataframe\">\n",
              "  <thead>\n",
              "    <tr style=\"text-align: right;\">\n",
              "      <th></th>\n",
              "      <th>count</th>\n",
              "      <th>unique</th>\n",
              "      <th>top</th>\n",
              "      <th>freq</th>\n",
              "    </tr>\n",
              "  </thead>\n",
              "  <tbody>\n",
              "    <tr>\n",
              "      <th>PassengerId</th>\n",
              "      <td>8693</td>\n",
              "      <td>8693</td>\n",
              "      <td>0001_01</td>\n",
              "      <td>1</td>\n",
              "    </tr>\n",
              "    <tr>\n",
              "      <th>HomePlanet</th>\n",
              "      <td>8492</td>\n",
              "      <td>3</td>\n",
              "      <td>Earth</td>\n",
              "      <td>4602</td>\n",
              "    </tr>\n",
              "    <tr>\n",
              "      <th>CryoSleep</th>\n",
              "      <td>8476</td>\n",
              "      <td>2</td>\n",
              "      <td>False</td>\n",
              "      <td>5439</td>\n",
              "    </tr>\n",
              "    <tr>\n",
              "      <th>Cabin</th>\n",
              "      <td>8494</td>\n",
              "      <td>6560</td>\n",
              "      <td>G/734/S</td>\n",
              "      <td>8</td>\n",
              "    </tr>\n",
              "    <tr>\n",
              "      <th>Destination</th>\n",
              "      <td>8511</td>\n",
              "      <td>3</td>\n",
              "      <td>TRAPPIST-1e</td>\n",
              "      <td>5915</td>\n",
              "    </tr>\n",
              "    <tr>\n",
              "      <th>VIP</th>\n",
              "      <td>8490</td>\n",
              "      <td>2</td>\n",
              "      <td>False</td>\n",
              "      <td>8291</td>\n",
              "    </tr>\n",
              "    <tr>\n",
              "      <th>Name</th>\n",
              "      <td>8493</td>\n",
              "      <td>8473</td>\n",
              "      <td>Gollux Reedall</td>\n",
              "      <td>2</td>\n",
              "    </tr>\n",
              "  </tbody>\n",
              "</table>\n",
              "</div>"
            ],
            "text/plain": [
              "            count unique             top  freq\n",
              "PassengerId  8693   8693         0001_01     1\n",
              "HomePlanet   8492      3           Earth  4602\n",
              "CryoSleep    8476      2           False  5439\n",
              "Cabin        8494   6560         G/734/S     8\n",
              "Destination  8511      3     TRAPPIST-1e  5915\n",
              "VIP          8490      2           False  8291\n",
              "Name         8493   8473  Gollux Reedall     2"
            ]
          },
          "execution_count": 14,
          "metadata": {},
          "output_type": "execute_result"
        }
      ],
      "source": [
        "train_df.describe(include='object').round().T"
      ]
    },
    {
      "cell_type": "code",
      "execution_count": null,
      "id": "e12f48f2",
      "metadata": {
        "execution": {
          "iopub.execute_input": "2022-08-10T12:00:52.758016Z",
          "iopub.status.busy": "2022-08-10T12:00:52.757639Z",
          "iopub.status.idle": "2022-08-10T12:00:52.793713Z",
          "shell.execute_reply": "2022-08-10T12:00:52.792542Z"
        },
        "id": "e12f48f2",
        "outputId": "de9b476a-b45e-401f-dbae-8a7cb843a068",
        "papermill": {
          "duration": 0.07071,
          "end_time": "2022-08-10T12:00:52.796553",
          "exception": false,
          "start_time": "2022-08-10T12:00:52.725843",
          "status": "completed"
        },
        "tags": []
      },
      "outputs": [
        {
          "data": {
            "text/html": [
              "<div>\n",
              "<style scoped>\n",
              "    .dataframe tbody tr th:only-of-type {\n",
              "        vertical-align: middle;\n",
              "    }\n",
              "\n",
              "    .dataframe tbody tr th {\n",
              "        vertical-align: top;\n",
              "    }\n",
              "\n",
              "    .dataframe thead th {\n",
              "        text-align: right;\n",
              "    }\n",
              "</style>\n",
              "<table border=\"1\" class=\"dataframe\">\n",
              "  <thead>\n",
              "    <tr style=\"text-align: right;\">\n",
              "      <th></th>\n",
              "      <th>count</th>\n",
              "      <th>unique</th>\n",
              "      <th>top</th>\n",
              "      <th>freq</th>\n",
              "    </tr>\n",
              "  </thead>\n",
              "  <tbody>\n",
              "    <tr>\n",
              "      <th>PassengerId</th>\n",
              "      <td>4277</td>\n",
              "      <td>4277</td>\n",
              "      <td>0013_01</td>\n",
              "      <td>1</td>\n",
              "    </tr>\n",
              "    <tr>\n",
              "      <th>HomePlanet</th>\n",
              "      <td>4190</td>\n",
              "      <td>3</td>\n",
              "      <td>Earth</td>\n",
              "      <td>2263</td>\n",
              "    </tr>\n",
              "    <tr>\n",
              "      <th>CryoSleep</th>\n",
              "      <td>4184</td>\n",
              "      <td>2</td>\n",
              "      <td>False</td>\n",
              "      <td>2640</td>\n",
              "    </tr>\n",
              "    <tr>\n",
              "      <th>Cabin</th>\n",
              "      <td>4177</td>\n",
              "      <td>3265</td>\n",
              "      <td>G/160/P</td>\n",
              "      <td>8</td>\n",
              "    </tr>\n",
              "    <tr>\n",
              "      <th>Destination</th>\n",
              "      <td>4185</td>\n",
              "      <td>3</td>\n",
              "      <td>TRAPPIST-1e</td>\n",
              "      <td>2956</td>\n",
              "    </tr>\n",
              "    <tr>\n",
              "      <th>VIP</th>\n",
              "      <td>4184</td>\n",
              "      <td>2</td>\n",
              "      <td>False</td>\n",
              "      <td>4110</td>\n",
              "    </tr>\n",
              "    <tr>\n",
              "      <th>Name</th>\n",
              "      <td>4183</td>\n",
              "      <td>4176</td>\n",
              "      <td>Cints Erle</td>\n",
              "      <td>2</td>\n",
              "    </tr>\n",
              "  </tbody>\n",
              "</table>\n",
              "</div>"
            ],
            "text/plain": [
              "            count unique          top  freq\n",
              "PassengerId  4277   4277      0013_01     1\n",
              "HomePlanet   4190      3        Earth  2263\n",
              "CryoSleep    4184      2        False  2640\n",
              "Cabin        4177   3265      G/160/P     8\n",
              "Destination  4185      3  TRAPPIST-1e  2956\n",
              "VIP          4184      2        False  4110\n",
              "Name         4183   4176   Cints Erle     2"
            ]
          },
          "execution_count": 15,
          "metadata": {},
          "output_type": "execute_result"
        }
      ],
      "source": [
        "test_df.describe(include='object').round().T"
      ]
    },
    {
      "cell_type": "markdown",
      "id": "b63f973d",
      "metadata": {
        "id": "b63f973d",
        "papermill": {
          "duration": 0.02934,
          "end_time": "2022-08-10T12:00:52.855860",
          "exception": false,
          "start_time": "2022-08-10T12:00:52.826520",
          "status": "completed"
        },
        "tags": []
      },
      "source": [
        "*Analysis:*\n",
        "* Train and Test data appears to be generally similar:\n",
        "  * HomePlanet: Three unique values with Earth as the most common, comprising slightly more than 50%.\n",
        "  * CryoSleep: Boolean with False comprising almost 65%.\n",
        "  * Destination: Three unique values with TRAPPIST-1e comprising 70%.\n",
        "  * VIP: Boolean with False comprising 99%. \n",
        "\n",
        "PassengerId, Cabin, and Name all comprise mostly unique values, although there appear to be passengers with duplicate names which we will need to investigate."
      ]
    },
    {
      "cell_type": "markdown",
      "id": "a45924b9",
      "metadata": {
        "id": "a45924b9",
        "papermill": {
          "duration": 0.030772,
          "end_time": "2022-08-10T12:00:52.916913",
          "exception": false,
          "start_time": "2022-08-10T12:00:52.886141",
          "status": "completed"
        },
        "tags": []
      },
      "source": [
        "### Overview of Missing Values"
      ]
    },
    {
      "cell_type": "code",
      "execution_count": null,
      "id": "cc17a43c",
      "metadata": {
        "execution": {
          "iopub.execute_input": "2022-08-10T12:00:52.979524Z",
          "iopub.status.busy": "2022-08-10T12:00:52.979103Z",
          "iopub.status.idle": "2022-08-10T12:00:53.477216Z",
          "shell.execute_reply": "2022-08-10T12:00:53.475173Z"
        },
        "id": "cc17a43c",
        "outputId": "e0a711ce-585e-4cfd-994b-af1f7cbdf773",
        "papermill": {
          "duration": 0.53286,
          "end_time": "2022-08-10T12:00:53.479860",
          "exception": false,
          "start_time": "2022-08-10T12:00:52.947000",
          "status": "completed"
        },
        "tags": []
      },
      "outputs": [
        {
          "name": "stdout",
          "output_type": "stream",
          "text": [
            "Percentage of missing data in train and test data sets:\n",
            "\n"
          ]
        },
        {
          "data": {
            "image/png": "[encoded data removed]",
            "text/plain": [
              "<Figure size 720x360 with 1 Axes>"
            ]
          },
          "metadata": {
            "needs_background": "light"
          },
          "output_type": "display_data"
        },
        {
          "name": "stdout",
          "output_type": "stream",
          "text": [
            "\n"
          ]
        },
        {
          "data": {
            "image/png": "[encoded data removed]",
            "text/plain": [
              "<Figure size 720x360 with 1 Axes>"
            ]
          },
          "metadata": {
            "needs_background": "light"
          },
          "output_type": "display_data"
        },
        {
          "name": "stdout",
          "output_type": "stream",
          "text": [
            "\n"
          ]
        }
      ],
      "source": [
        "print('Percentage of missing data in train and test data sets:\\n')\n",
        "for df in full_data:\n",
        "  (\n",
        "      df.isna().mean()\n",
        "      .plot(kind='barh',\n",
        "            figsize=(10,5))\n",
        "  )\n",
        "  plt.show()\n",
        "  print('')"
      ]
    },
    {
      "cell_type": "markdown",
      "id": "21882f44",
      "metadata": {
        "id": "21882f44",
        "papermill": {
          "duration": 0.031326,
          "end_time": "2022-08-10T12:00:53.543588",
          "exception": false,
          "start_time": "2022-08-10T12:00:53.512262",
          "status": "completed"
        },
        "tags": []
      },
      "source": [
        "**Analysis**\n",
        "* PassengerId contains zero missing values in the train and test data sets \n",
        "* In the train data set, Transported also contains zero missing values \n",
        "* All other features in both the train and test data sets contain roughly 0.02 to 0.025 percent missing values\n",
        "* For the train data the 0.02 correlates to approx. 180-200 values per feature "
      ]
    },
    {
      "cell_type": "markdown",
      "id": "02e9f129",
      "metadata": {
        "id": "02e9f129",
        "papermill": {
          "duration": 0.031239,
          "end_time": "2022-08-10T12:00:53.605697",
          "exception": false,
          "start_time": "2022-08-10T12:00:53.574458",
          "status": "completed"
        },
        "tags": []
      },
      "source": [
        "## Summary of Data Preprocessing"
      ]
    },
    {
      "cell_type": "markdown",
      "id": "8135bcba",
      "metadata": {
        "id": "8135bcba",
        "papermill": {
          "duration": 0.029812,
          "end_time": "2022-08-10T12:00:53.666312",
          "exception": false,
          "start_time": "2022-08-10T12:00:53.636500",
          "status": "completed"
        },
        "tags": []
      },
      "source": [
        "### Summary Steps\n",
        "* **PassengerId:** parse into Passenger_Group, Passenger_Num, and Group_Size\n",
        "* **HomePlanet:** impute most frequent and convert to categorical\n",
        "* **CryoSleep:** impute most frequent; convert to boolean\n",
        "* **Cabin:** Fill missing values with 'Z/99999/Z' and parse into new Cabin_Deck, Cabin_Num, and Cabin_Side features\n",
        "* **Destination:** impute most frequent and convert to categorical\n",
        "* **Age:** Impute median value\n",
        "* **VIP:** Impute most frequent and convert to boolean\n",
        "* **RoomService:** Impute median value\n",
        "* **FoodCourt:** Impute median value\n",
        "* **ShoppingMall:** Impute median value\n",
        "* **Spa:** Impute median value\n",
        "* **VRDeck:** Impute median value\n",
        "* **Name:** impute 'NoFirstName NoLastName'\n",
        "* **Transported:** converted to Boolean; train data only\n",
        "\n"
      ]
    },
    {
      "cell_type": "markdown",
      "id": "a296815b",
      "metadata": {
        "id": "a296815b",
        "papermill": {
          "duration": 0.030672,
          "end_time": "2022-08-10T12:00:53.727318",
          "exception": false,
          "start_time": "2022-08-10T12:00:53.696646",
          "status": "completed"
        },
        "tags": []
      },
      "source": [
        "### Preprocess Data"
      ]
    },
    {
      "cell_type": "code",
      "execution_count": null,
      "id": "b7efe102",
      "metadata": {
        "execution": {
          "iopub.execute_input": "2022-08-10T12:00:53.790817Z",
          "iopub.status.busy": "2022-08-10T12:00:53.790383Z",
          "iopub.status.idle": "2022-08-10T12:02:01.266419Z",
          "shell.execute_reply": "2022-08-10T12:02:01.265075Z"
        },
        "id": "b7efe102",
        "papermill": {
          "duration": 67.511388,
          "end_time": "2022-08-10T12:02:01.269381",
          "exception": false,
          "start_time": "2022-08-10T12:00:53.757993",
          "status": "completed"
        },
        "tags": []
      },
      "outputs": [],
      "source": [
        "# convert Transported to boolean; only in train_df \n",
        "train_df['Transported'] = train_df['Transported'].astype(bool)\n",
        "\n",
        "# format bulk of data sets \n",
        "for df in full_data:\n",
        "\n",
        "  # IMPUTE MISSING VALUES \n",
        "  df['Name'].fillna('NoFirstName NoSurname', inplace=True)\n",
        "  df['HomePlanet'].fillna(df['HomePlanet'].value_counts().index[0], inplace=True)\n",
        "  df['CryoSleep'].fillna(df['CryoSleep'].value_counts().index[0], inplace=True)\n",
        "  df['Cabin'].fillna('Z/99999/Z', inplace=True)\n",
        "  df['Destination'].fillna(df['Destination'].value_counts().index[0], inplace=True)\n",
        "  df['VIP'].fillna(df['VIP'].value_counts().index[0], inplace=True)\n",
        "  df['Age'].fillna(df['Age'].median(), inplace=True)\n",
        "  df['RoomService'].fillna(df['RoomService'].median(), inplace=True)\n",
        "  df['FoodCourt'].fillna(df['FoodCourt'].median(), inplace=True)\n",
        "  df['ShoppingMall'].fillna(df['ShoppingMall'].median(), inplace=True)\n",
        "  df['Spa'].fillna(df['Spa'].median(), inplace=True)\n",
        "  df['VRDeck'].fillna(df['VRDeck'].median(), inplace=True)\n",
        "\n",
        "  # CREATE FEATURES \n",
        "  df['Passenger_Group'] = df['PassengerId'].apply(lambda x: x.split('_')[0]).astype(str)\n",
        "  df['Passenger_Num'] = df['PassengerId'].apply(lambda x: x.split('_')[1]).astype(str)\n",
        "  df['Cabin_Deck'] = df['Cabin'].apply(lambda x: x.split('/')[0]).astype(str)\n",
        "  df['Cabin_Num'] = df['Cabin'].apply(lambda x: x.split('/')[1]).astype(str)\n",
        "  df['Cabin_Side'] = df['Cabin'].apply(lambda x: x.split('/')[2]).astype(str) \n",
        "\n",
        "  # FORMAT DATA TYPES \n",
        "  df['HomePlanet'] = df['HomePlanet'].astype('category')\n",
        "  df['CryoSleep'] = df['CryoSleep'].astype('bool')\n",
        "  df['Cabin_Deck'] = df['Cabin_Deck'].astype('category')\n",
        "  df['Cabin_Side'] = df['Cabin_Side'].astype('category')\n",
        "  df['Destination'] = df['Destination'].astype('category')\n",
        "\n",
        "\n",
        "# use completed features to generate new features\n",
        "for df in full_data:\n",
        "  df['Group_Size'] = df['Passenger_Group'].map(lambda x: pd.concat([train_df['Passenger_Group'], \n",
        "                                                                    test_df['Passenger_Group']]).value_counts()[x])\n",
        "\n",
        "\n"
      ]
    },
    {
      "cell_type": "code",
      "execution_count": null,
      "id": "2718ea40",
      "metadata": {
        "execution": {
          "iopub.execute_input": "2022-08-10T12:02:01.340923Z",
          "iopub.status.busy": "2022-08-10T12:02:01.340194Z",
          "iopub.status.idle": "2022-08-10T12:02:01.363557Z",
          "shell.execute_reply": "2022-08-10T12:02:01.361639Z"
        },
        "id": "2718ea40",
        "outputId": "787c277b-5a94-41de-b3cc-15f118a62b9a",
        "papermill": {
          "duration": 0.065024,
          "end_time": "2022-08-10T12:02:01.367702",
          "exception": false,
          "start_time": "2022-08-10T12:02:01.302678",
          "status": "completed"
        },
        "tags": []
      },
      "outputs": [
        {
          "name": "stdout",
          "output_type": "stream",
          "text": [
            "<class 'pandas.core.frame.DataFrame'>\n",
            "RangeIndex: 8693 entries, 0 to 8692\n",
            "Data columns (total 20 columns):\n",
            " #   Column           Non-Null Count  Dtype   \n",
            "---  ------           --------------  -----   \n",
            " 0   PassengerId      8693 non-null   object  \n",
            " 1   HomePlanet       8693 non-null   category\n",
            " 2   CryoSleep        8693 non-null   bool    \n",
            " 3   Cabin            8693 non-null   object  \n",
            " 4   Destination      8693 non-null   category\n",
            " 5   Age              8693 non-null   float64 \n",
            " 6   VIP              8693 non-null   bool    \n",
            " 7   RoomService      8693 non-null   float64 \n",
            " 8   FoodCourt        8693 non-null   float64 \n",
            " 9   ShoppingMall     8693 non-null   float64 \n",
            " 10  Spa              8693 non-null   float64 \n",
            " 11  VRDeck           8693 non-null   float64 \n",
            " 12  Name             8693 non-null   object  \n",
            " 13  Transported      8693 non-null   bool    \n",
            " 14  Passenger_Group  8693 non-null   object  \n",
            " 15  Passenger_Num    8693 non-null   object  \n",
            " 16  Cabin_Deck       8693 non-null   category\n",
            " 17  Cabin_Num        8693 non-null   object  \n",
            " 18  Cabin_Side       8693 non-null   category\n",
            " 19  Group_Size       8693 non-null   int64   \n",
            "dtypes: bool(3), category(4), float64(6), int64(1), object(6)\n",
            "memory usage: 943.2+ KB\n"
          ]
        }
      ],
      "source": [
        "train_df.info()"
      ]
    },
    {
      "cell_type": "code",
      "execution_count": null,
      "id": "bd93dc70",
      "metadata": {
        "execution": {
          "iopub.execute_input": "2022-08-10T12:02:01.440549Z",
          "iopub.status.busy": "2022-08-10T12:02:01.440105Z",
          "iopub.status.idle": "2022-08-10T12:02:01.459721Z",
          "shell.execute_reply": "2022-08-10T12:02:01.457716Z"
        },
        "id": "bd93dc70",
        "outputId": "ede00d69-a2b7-4f1a-8319-5c5c16c3349a",
        "papermill": {
          "duration": 0.058659,
          "end_time": "2022-08-10T12:02:01.462612",
          "exception": false,
          "start_time": "2022-08-10T12:02:01.403953",
          "status": "completed"
        },
        "tags": []
      },
      "outputs": [
        {
          "name": "stdout",
          "output_type": "stream",
          "text": [
            "<class 'pandas.core.frame.DataFrame'>\n",
            "RangeIndex: 4277 entries, 0 to 4276\n",
            "Data columns (total 19 columns):\n",
            " #   Column           Non-Null Count  Dtype   \n",
            "---  ------           --------------  -----   \n",
            " 0   PassengerId      4277 non-null   object  \n",
            " 1   HomePlanet       4277 non-null   category\n",
            " 2   CryoSleep        4277 non-null   bool    \n",
            " 3   Cabin            4277 non-null   object  \n",
            " 4   Destination      4277 non-null   category\n",
            " 5   Age              4277 non-null   float64 \n",
            " 6   VIP              4277 non-null   bool    \n",
            " 7   RoomService      4277 non-null   float64 \n",
            " 8   FoodCourt        4277 non-null   float64 \n",
            " 9   ShoppingMall     4277 non-null   float64 \n",
            " 10  Spa              4277 non-null   float64 \n",
            " 11  VRDeck           4277 non-null   float64 \n",
            " 12  Name             4277 non-null   object  \n",
            " 13  Passenger_Group  4277 non-null   object  \n",
            " 14  Passenger_Num    4277 non-null   object  \n",
            " 15  Cabin_Deck       4277 non-null   category\n",
            " 16  Cabin_Num        4277 non-null   object  \n",
            " 17  Cabin_Side       4277 non-null   category\n",
            " 18  Group_Size       4277 non-null   int64   \n",
            "dtypes: bool(2), category(4), float64(6), int64(1), object(6)\n",
            "memory usage: 460.3+ KB\n"
          ]
        }
      ],
      "source": [
        "test_df.info()"
      ]
    },
    {
      "cell_type": "markdown",
      "id": "912c94e5",
      "metadata": {
        "id": "912c94e5",
        "papermill": {
          "duration": 0.030599,
          "end_time": "2022-08-10T12:02:01.524758",
          "exception": false,
          "start_time": "2022-08-10T12:02:01.494159",
          "status": "completed"
        },
        "tags": []
      },
      "source": [
        "## Categorical Feature Analysis\n",
        "\n",
        "*Note: This analysis will generally focus on the training dataset*"
      ]
    },
    {
      "cell_type": "markdown",
      "id": "e76c07f9",
      "metadata": {
        "id": "e76c07f9",
        "papermill": {
          "duration": 0.031054,
          "end_time": "2022-08-10T12:02:01.588420",
          "exception": false,
          "start_time": "2022-08-10T12:02:01.557366",
          "status": "completed"
        },
        "tags": []
      },
      "source": [
        "### Transported\n",
        "*Whether the passenger was transported to another dimension. This is the target, the column we are trying to predict.*"
      ]
    },
    {
      "cell_type": "code",
      "execution_count": null,
      "id": "a9b48834",
      "metadata": {
        "execution": {
          "iopub.execute_input": "2022-08-10T12:02:01.655338Z",
          "iopub.status.busy": "2022-08-10T12:02:01.654534Z",
          "iopub.status.idle": "2022-08-10T12:02:01.843675Z",
          "shell.execute_reply": "2022-08-10T12:02:01.842306Z"
        },
        "id": "a9b48834",
        "outputId": "82254d67-64fd-4967-8531-4db529a67dc3",
        "papermill": {
          "duration": 0.225906,
          "end_time": "2022-08-10T12:02:01.846337",
          "exception": false,
          "start_time": "2022-08-10T12:02:01.620431",
          "status": "completed"
        },
        "tags": []
      },
      "outputs": [
        {
          "data": {
            "image/png": "[encoded data removed]",
            "text/plain": [
              "<Figure size 720x360 with 1 Axes>"
            ]
          },
          "metadata": {
            "needs_background": "light"
          },
          "output_type": "display_data"
        }
      ],
      "source": [
        "plot_categorical_barh(df=train_df, col='Transported', title='Percentage of Passengers Transported')"
      ]
    },
    {
      "cell_type": "markdown",
      "id": "fa3b0398",
      "metadata": {
        "id": "fa3b0398",
        "papermill": {
          "duration": 0.031844,
          "end_time": "2022-08-10T12:02:01.912165",
          "exception": false,
          "start_time": "2022-08-10T12:02:01.880321",
          "status": "completed"
        },
        "tags": []
      },
      "source": [
        "**Analysis of Transported:**\n",
        "* Approximately half of the passengers were transported, with slightly more being transported than not. \n",
        "* At this point we don't have a way to confirm whether the test data has the same distribution."
      ]
    },
    {
      "cell_type": "markdown",
      "id": "754a35df",
      "metadata": {
        "id": "754a35df",
        "papermill": {
          "duration": 0.032323,
          "end_time": "2022-08-10T12:02:01.976083",
          "exception": false,
          "start_time": "2022-08-10T12:02:01.943760",
          "status": "completed"
        },
        "tags": []
      },
      "source": [
        "### PassengerId\n",
        "*A unique Id for each passenger. Each Id takes the form gggg_pp where gggg indicates a group the passenger is travelling with and pp is their number within the group. People in a group are often family members, but not always.*\n",
        "\n",
        "We used PassengerId to create additional features: \n",
        "* *Passenger_Group* for each group \n",
        "* *Passenger_Num* for each group member \n",
        "* *Group_Size* to count the number of members in each group"
      ]
    },
    {
      "cell_type": "markdown",
      "id": "939ea1f8",
      "metadata": {
        "id": "939ea1f8",
        "papermill": {
          "duration": 0.031351,
          "end_time": "2022-08-10T12:02:02.040877",
          "exception": false,
          "start_time": "2022-08-10T12:02:02.009526",
          "status": "completed"
        },
        "tags": []
      },
      "source": [
        "### Passenger Group Size\n",
        "Number of members traveling as part of a specific passenger group. This feature was created from PassengerId."
      ]
    },
    {
      "cell_type": "code",
      "execution_count": null,
      "id": "8ab99e49",
      "metadata": {
        "execution": {
          "iopub.execute_input": "2022-08-10T12:02:02.105655Z",
          "iopub.status.busy": "2022-08-10T12:02:02.105278Z",
          "iopub.status.idle": "2022-08-10T12:02:02.319009Z",
          "shell.execute_reply": "2022-08-10T12:02:02.317635Z"
        },
        "id": "8ab99e49",
        "outputId": "b1a124e8-1164-4617-aa7f-167eb6e7abf9",
        "papermill": {
          "duration": 0.248876,
          "end_time": "2022-08-10T12:02:02.321892",
          "exception": false,
          "start_time": "2022-08-10T12:02:02.073016",
          "status": "completed"
        },
        "tags": []
      },
      "outputs": [
        {
          "data": {
            "image/png": "[encoded data removed]",
            "text/plain": [
              "<Figure size 720x360 with 1 Axes>"
            ]
          },
          "metadata": {
            "needs_background": "light"
          },
          "output_type": "display_data"
        }
      ],
      "source": [
        "plot_categorical_barh(df=train_df, col='Group_Size', \n",
        "                 title='Distribution of Passenger Group Sizes -- Train Data')"
      ]
    },
    {
      "cell_type": "code",
      "execution_count": null,
      "id": "e8053003",
      "metadata": {
        "execution": {
          "iopub.execute_input": "2022-08-10T12:02:02.387307Z",
          "iopub.status.busy": "2022-08-10T12:02:02.386901Z",
          "iopub.status.idle": "2022-08-10T12:02:02.599220Z",
          "shell.execute_reply": "2022-08-10T12:02:02.597721Z"
        },
        "id": "e8053003",
        "outputId": "1c4f179b-cbb1-40f2-b255-28e8e954e7c3",
        "papermill": {
          "duration": 0.248133,
          "end_time": "2022-08-10T12:02:02.602302",
          "exception": false,
          "start_time": "2022-08-10T12:02:02.354169",
          "status": "completed"
        },
        "tags": []
      },
      "outputs": [
        {
          "data": {
            "image/png": "[encoded data removed]",
            "text/plain": [
              "<Figure size 720x360 with 1 Axes>"
            ]
          },
          "metadata": {
            "needs_background": "light"
          },
          "output_type": "display_data"
        }
      ],
      "source": [
        "plot_categorical_barh(df=train_df, col='Group_Size', \n",
        "                 title='Distribution of Passenger Group Sizes -- Test Data',\n",
        "                 color=['g'])"
      ]
    },
    {
      "cell_type": "code",
      "execution_count": null,
      "id": "74328bd6",
      "metadata": {
        "execution": {
          "iopub.execute_input": "2022-08-10T12:02:02.669750Z",
          "iopub.status.busy": "2022-08-10T12:02:02.669314Z",
          "iopub.status.idle": "2022-08-10T12:02:02.904636Z",
          "shell.execute_reply": "2022-08-10T12:02:02.903450Z"
        },
        "id": "74328bd6",
        "outputId": "a03d5c01-26a6-444c-cd6a-524496d0f0c1",
        "papermill": {
          "duration": 0.272759,
          "end_time": "2022-08-10T12:02:02.907159",
          "exception": false,
          "start_time": "2022-08-10T12:02:02.634400",
          "status": "completed"
        },
        "tags": []
      },
      "outputs": [
        {
          "data": {
            "image/png": "[encoded data removed]",
            "text/plain": [
              "<Figure size 720x360 with 1 Axes>"
            ]
          },
          "metadata": {
            "needs_background": "light"
          },
          "output_type": "display_data"
        }
      ],
      "source": [
        "plot_transported_pct(df=train_df, \n",
        "                     col='Group_Size',\n",
        "                     title='Percentage Transported by Group Size -- Train Data')"
      ]
    },
    {
      "cell_type": "markdown",
      "id": "daf395be",
      "metadata": {
        "id": "daf395be",
        "papermill": {
          "duration": 0.032458,
          "end_time": "2022-08-10T12:02:02.971608",
          "exception": false,
          "start_time": "2022-08-10T12:02:02.939150",
          "status": "completed"
        },
        "tags": []
      },
      "source": [
        "**Analysis of Group Size**\n",
        "* Among all passengers, approximately half were transported to another dimension. \n",
        "* When analyzed by group size, it appears that passengers traveling in groups with two to seven members were between 4% and 14% more likely to be transported.\n",
        "* Passengers traveling alone were 5% less likely to be transported than the average."
      ]
    },
    {
      "cell_type": "markdown",
      "id": "551a5801",
      "metadata": {
        "id": "551a5801",
        "papermill": {
          "duration": 0.032343,
          "end_time": "2022-08-10T12:02:03.036717",
          "exception": false,
          "start_time": "2022-08-10T12:02:03.004374",
          "status": "completed"
        },
        "tags": []
      },
      "source": [
        "### Passenger Name\n",
        "*The first and last names of the passenger.*"
      ]
    },
    {
      "cell_type": "markdown",
      "id": "01b7715b",
      "metadata": {
        "id": "01b7715b",
        "papermill": {
          "duration": 0.032425,
          "end_time": "2022-08-10T12:02:03.100676",
          "exception": false,
          "start_time": "2022-08-10T12:02:03.068251",
          "status": "completed"
        },
        "tags": []
      },
      "source": [
        "**Passengers with Duplicate Names**"
      ]
    },
    {
      "cell_type": "code",
      "execution_count": null,
      "id": "42302881",
      "metadata": {
        "execution": {
          "iopub.execute_input": "2022-08-10T12:02:03.168944Z",
          "iopub.status.busy": "2022-08-10T12:02:03.168093Z",
          "iopub.status.idle": "2022-08-10T12:02:03.184881Z",
          "shell.execute_reply": "2022-08-10T12:02:03.183233Z"
        },
        "id": "42302881",
        "outputId": "7afcb9cd-8946-4add-d70f-f1e73b275296",
        "papermill": {
          "duration": 0.053454,
          "end_time": "2022-08-10T12:02:03.187553",
          "exception": false,
          "start_time": "2022-08-10T12:02:03.134099",
          "status": "completed"
        },
        "tags": []
      },
      "outputs": [
        {
          "name": "stdout",
          "output_type": "stream",
          "text": [
            "Number of passengers with same name: 20\n"
          ]
        }
      ],
      "source": [
        "duplicate_names = train_df['Name'].value_counts()[train_df['Name'].value_counts() == 2].index\n",
        "print('Number of passengers with same name:', len(duplicate_names))"
      ]
    },
    {
      "cell_type": "code",
      "execution_count": null,
      "id": "1d6f738d",
      "metadata": {
        "execution": {
          "iopub.execute_input": "2022-08-10T12:02:03.257177Z",
          "iopub.status.busy": "2022-08-10T12:02:03.256374Z",
          "iopub.status.idle": "2022-08-10T12:02:03.273963Z",
          "shell.execute_reply": "2022-08-10T12:02:03.272911Z"
        },
        "id": "1d6f738d",
        "outputId": "6d34d14e-dbba-4563-d845-04a28a9503a6",
        "papermill": {
          "duration": 0.054742,
          "end_time": "2022-08-10T12:02:03.276555",
          "exception": false,
          "start_time": "2022-08-10T12:02:03.221813",
          "status": "completed"
        },
        "tags": []
      },
      "outputs": [
        {
          "data": {
            "text/plain": [
              "Sus Coolez            2\n",
              "Elaney Webstephrey    2\n",
              "Dia Cartez            2\n",
              "Grake Porki           2\n",
              "Apix Wala             2\n",
              "Sharie Gallenry       2\n",
              "Cuses Pread           2\n",
              "Alraium Disivering    2\n",
              "Carry Contrevins      2\n",
              "Keitha Josey          2\n",
              "Gollux Reedall        2\n",
              "Loree Wolfernan       2\n",
              "Gwendy Sykess         2\n",
              "Asch Stradick         2\n",
              "Troya Schwardson      2\n",
              "Glena Hahnstonsen     2\n",
              "Anton Woody           2\n",
              "Juane Popelazquez     2\n",
              "Ankalik Nateansive    2\n",
              "Glenna Valezaley      2\n",
              "Name: Name, dtype: int64"
            ]
          },
          "execution_count": 25,
          "metadata": {},
          "output_type": "execute_result"
        }
      ],
      "source": [
        "train_df['Name'].value_counts()[train_df['Name'].value_counts() == 2]"
      ]
    },
    {
      "cell_type": "code",
      "execution_count": null,
      "id": "0dd4d07d",
      "metadata": {
        "execution": {
          "iopub.execute_input": "2022-08-10T12:02:03.346710Z",
          "iopub.status.busy": "2022-08-10T12:02:03.345648Z",
          "iopub.status.idle": "2022-08-10T12:02:03.355966Z",
          "shell.execute_reply": "2022-08-10T12:02:03.354849Z"
        },
        "id": "0dd4d07d",
        "outputId": "c0cce1ff-60e8-49dd-93bd-b151d6dd961d",
        "papermill": {
          "duration": 0.048146,
          "end_time": "2022-08-10T12:02:03.358827",
          "exception": false,
          "start_time": "2022-08-10T12:02:03.310681",
          "status": "completed"
        },
        "tags": []
      },
      "outputs": [
        {
          "data": {
            "text/plain": [
              "(40, 20)"
            ]
          },
          "execution_count": 26,
          "metadata": {},
          "output_type": "execute_result"
        }
      ],
      "source": [
        "# dataframe of just passengers with duplicate names\n",
        "duplicate_names_df = train_df[train_df['Name'].isin(list(duplicate_names))].copy()\n",
        "duplicate_names_df.shape"
      ]
    },
    {
      "cell_type": "code",
      "execution_count": null,
      "id": "65793427",
      "metadata": {
        "execution": {
          "iopub.execute_input": "2022-08-10T12:02:03.428559Z",
          "iopub.status.busy": "2022-08-10T12:02:03.427895Z",
          "iopub.status.idle": "2022-08-10T12:02:03.459153Z",
          "shell.execute_reply": "2022-08-10T12:02:03.457941Z"
        },
        "id": "65793427",
        "papermill": {
          "duration": 0.069417,
          "end_time": "2022-08-10T12:02:03.461561",
          "exception": false,
          "start_time": "2022-08-10T12:02:03.392144",
          "status": "completed"
        },
        "tags": [],
        "outputId": "da593af5-665b-47c3-99ee-1169938a057f"
      },
      "outputs": [
        {
          "data": {
            "text/html": [
              "<div>\n",
              "<style scoped>\n",
              "    .dataframe tbody tr th:only-of-type {\n",
              "        vertical-align: middle;\n",
              "    }\n",
              "\n",
              "    .dataframe tbody tr th {\n",
              "        vertical-align: top;\n",
              "    }\n",
              "\n",
              "    .dataframe thead th {\n",
              "        text-align: right;\n",
              "    }\n",
              "</style>\n",
              "<table border=\"1\" class=\"dataframe\">\n",
              "  <thead>\n",
              "    <tr style=\"text-align: right;\">\n",
              "      <th></th>\n",
              "      <th>PassengerId</th>\n",
              "      <th>HomePlanet</th>\n",
              "      <th>CryoSleep</th>\n",
              "      <th>Cabin</th>\n",
              "      <th>Destination</th>\n",
              "      <th>Age</th>\n",
              "      <th>VIP</th>\n",
              "      <th>RoomService</th>\n",
              "      <th>FoodCourt</th>\n",
              "      <th>ShoppingMall</th>\n",
              "      <th>Spa</th>\n",
              "      <th>VRDeck</th>\n",
              "      <th>Name</th>\n",
              "      <th>Transported</th>\n",
              "      <th>Passenger_Group</th>\n",
              "      <th>Passenger_Num</th>\n",
              "      <th>Cabin_Deck</th>\n",
              "      <th>Cabin_Num</th>\n",
              "      <th>Cabin_Side</th>\n",
              "      <th>Group_Size</th>\n",
              "    </tr>\n",
              "  </thead>\n",
              "  <tbody>\n",
              "    <tr>\n",
              "      <th>7270</th>\n",
              "      <td>7775_01</td>\n",
              "      <td>Europa</td>\n",
              "      <td>False</td>\n",
              "      <td>C/253/P</td>\n",
              "      <td>55 Cancri e</td>\n",
              "      <td>28.0</td>\n",
              "      <td>False</td>\n",
              "      <td>7.0</td>\n",
              "      <td>489.0</td>\n",
              "      <td>0.0</td>\n",
              "      <td>4.0</td>\n",
              "      <td>6027.0</td>\n",
              "      <td>Alraium Disivering</td>\n",
              "      <td>False</td>\n",
              "      <td>7775</td>\n",
              "      <td>01</td>\n",
              "      <td>C</td>\n",
              "      <td>253</td>\n",
              "      <td>P</td>\n",
              "      <td>1</td>\n",
              "    </tr>\n",
              "    <tr>\n",
              "      <th>6296</th>\n",
              "      <td>6665_01</td>\n",
              "      <td>Europa</td>\n",
              "      <td>True</td>\n",
              "      <td>B/222/P</td>\n",
              "      <td>55 Cancri e</td>\n",
              "      <td>17.0</td>\n",
              "      <td>False</td>\n",
              "      <td>0.0</td>\n",
              "      <td>0.0</td>\n",
              "      <td>0.0</td>\n",
              "      <td>0.0</td>\n",
              "      <td>0.0</td>\n",
              "      <td>Alraium Disivering</td>\n",
              "      <td>True</td>\n",
              "      <td>6665</td>\n",
              "      <td>01</td>\n",
              "      <td>B</td>\n",
              "      <td>222</td>\n",
              "      <td>P</td>\n",
              "      <td>4</td>\n",
              "    </tr>\n",
              "    <tr>\n",
              "      <th>476</th>\n",
              "      <td>0512_02</td>\n",
              "      <td>Europa</td>\n",
              "      <td>True</td>\n",
              "      <td>D/18/S</td>\n",
              "      <td>TRAPPIST-1e</td>\n",
              "      <td>55.0</td>\n",
              "      <td>False</td>\n",
              "      <td>0.0</td>\n",
              "      <td>0.0</td>\n",
              "      <td>0.0</td>\n",
              "      <td>0.0</td>\n",
              "      <td>0.0</td>\n",
              "      <td>Ankalik Nateansive</td>\n",
              "      <td>True</td>\n",
              "      <td>0512</td>\n",
              "      <td>02</td>\n",
              "      <td>D</td>\n",
              "      <td>18</td>\n",
              "      <td>S</td>\n",
              "      <td>2</td>\n",
              "    </tr>\n",
              "    <tr>\n",
              "      <th>2930</th>\n",
              "      <td>3176_01</td>\n",
              "      <td>Europa</td>\n",
              "      <td>False</td>\n",
              "      <td>E/196/P</td>\n",
              "      <td>TRAPPIST-1e</td>\n",
              "      <td>77.0</td>\n",
              "      <td>False</td>\n",
              "      <td>0.0</td>\n",
              "      <td>9032.0</td>\n",
              "      <td>0.0</td>\n",
              "      <td>128.0</td>\n",
              "      <td>1464.0</td>\n",
              "      <td>Ankalik Nateansive</td>\n",
              "      <td>True</td>\n",
              "      <td>3176</td>\n",
              "      <td>01</td>\n",
              "      <td>E</td>\n",
              "      <td>196</td>\n",
              "      <td>P</td>\n",
              "      <td>1</td>\n",
              "    </tr>\n",
              "    <tr>\n",
              "      <th>8488</th>\n",
              "      <td>9071_01</td>\n",
              "      <td>Earth</td>\n",
              "      <td>False</td>\n",
              "      <td>F/1855/P</td>\n",
              "      <td>55 Cancri e</td>\n",
              "      <td>22.0</td>\n",
              "      <td>False</td>\n",
              "      <td>0.0</td>\n",
              "      <td>0.0</td>\n",
              "      <td>1072.0</td>\n",
              "      <td>46.0</td>\n",
              "      <td>3.0</td>\n",
              "      <td>Anton Woody</td>\n",
              "      <td>False</td>\n",
              "      <td>9071</td>\n",
              "      <td>01</td>\n",
              "      <td>F</td>\n",
              "      <td>1855</td>\n",
              "      <td>P</td>\n",
              "      <td>1</td>\n",
              "    </tr>\n",
              "    <tr>\n",
              "      <th>2991</th>\n",
              "      <td>3236_03</td>\n",
              "      <td>Earth</td>\n",
              "      <td>False</td>\n",
              "      <td>E/200/P</td>\n",
              "      <td>TRAPPIST-1e</td>\n",
              "      <td>18.0</td>\n",
              "      <td>False</td>\n",
              "      <td>0.0</td>\n",
              "      <td>30.0</td>\n",
              "      <td>0.0</td>\n",
              "      <td>756.0</td>\n",
              "      <td>5.0</td>\n",
              "      <td>Anton Woody</td>\n",
              "      <td>False</td>\n",
              "      <td>3236</td>\n",
              "      <td>03</td>\n",
              "      <td>E</td>\n",
              "      <td>200</td>\n",
              "      <td>P</td>\n",
              "      <td>3</td>\n",
              "    </tr>\n",
              "  </tbody>\n",
              "</table>\n",
              "</div>"
            ],
            "text/plain": [
              "     PassengerId HomePlanet  CryoSleep     Cabin  Destination   Age    VIP  \\\n",
              "7270     7775_01     Europa      False   C/253/P  55 Cancri e  28.0  False   \n",
              "6296     6665_01     Europa       True   B/222/P  55 Cancri e  17.0  False   \n",
              "476      0512_02     Europa       True    D/18/S  TRAPPIST-1e  55.0  False   \n",
              "2930     3176_01     Europa      False   E/196/P  TRAPPIST-1e  77.0  False   \n",
              "8488     9071_01      Earth      False  F/1855/P  55 Cancri e  22.0  False   \n",
              "2991     3236_03      Earth      False   E/200/P  TRAPPIST-1e  18.0  False   \n",
              "\n",
              "      RoomService  FoodCourt  ShoppingMall    Spa  VRDeck                Name  \\\n",
              "7270          7.0      489.0           0.0    4.0  6027.0  Alraium Disivering   \n",
              "6296          0.0        0.0           0.0    0.0     0.0  Alraium Disivering   \n",
              "476           0.0        0.0           0.0    0.0     0.0  Ankalik Nateansive   \n",
              "2930          0.0     9032.0           0.0  128.0  1464.0  Ankalik Nateansive   \n",
              "8488          0.0        0.0        1072.0   46.0     3.0         Anton Woody   \n",
              "2991          0.0       30.0           0.0  756.0     5.0         Anton Woody   \n",
              "\n",
              "      Transported Passenger_Group Passenger_Num Cabin_Deck Cabin_Num  \\\n",
              "7270        False            7775            01          C       253   \n",
              "6296         True            6665            01          B       222   \n",
              "476          True            0512            02          D        18   \n",
              "2930         True            3176            01          E       196   \n",
              "8488        False            9071            01          F      1855   \n",
              "2991        False            3236            03          E       200   \n",
              "\n",
              "     Cabin_Side  Group_Size  \n",
              "7270          P           1  \n",
              "6296          P           4  \n",
              "476           S           2  \n",
              "2930          P           1  \n",
              "8488          P           1  \n",
              "2991          P           3  "
            ]
          },
          "execution_count": 27,
          "metadata": {},
          "output_type": "execute_result"
        }
      ],
      "source": [
        "duplicate_names_df.sort_values(by='Name', ascending=True).head(6)"
      ]
    },
    {
      "cell_type": "code",
      "execution_count": null,
      "id": "8fbad78b",
      "metadata": {
        "execution": {
          "iopub.execute_input": "2022-08-10T12:02:03.528823Z",
          "iopub.status.busy": "2022-08-10T12:02:03.528180Z",
          "iopub.status.idle": "2022-08-10T12:02:03.538197Z",
          "shell.execute_reply": "2022-08-10T12:02:03.536898Z"
        },
        "id": "8fbad78b",
        "outputId": "f64bf0d1-cfcd-4aaa-ca55-523b7de7840f",
        "papermill": {
          "duration": 0.046258,
          "end_time": "2022-08-10T12:02:03.540657",
          "exception": false,
          "start_time": "2022-08-10T12:02:03.494399",
          "status": "completed"
        },
        "tags": []
      },
      "outputs": [
        {
          "data": {
            "text/plain": [
              "False    0.575\n",
              "True     0.425\n",
              "Name: Transported, dtype: float64"
            ]
          },
          "execution_count": 28,
          "metadata": {},
          "output_type": "execute_result"
        }
      ],
      "source": [
        "# likelihood of being transported with duplicate name \n",
        "duplicate_names_df['Transported'].value_counts(normalize=True)"
      ]
    },
    {
      "cell_type": "code",
      "execution_count": null,
      "id": "525689b0",
      "metadata": {
        "execution": {
          "iopub.execute_input": "2022-08-10T12:02:03.609929Z",
          "iopub.status.busy": "2022-08-10T12:02:03.609274Z",
          "iopub.status.idle": "2022-08-10T12:02:03.614013Z",
          "shell.execute_reply": "2022-08-10T12:02:03.613120Z"
        },
        "id": "525689b0",
        "papermill": {
          "duration": 0.041316,
          "end_time": "2022-08-10T12:02:03.616415",
          "exception": false,
          "start_time": "2022-08-10T12:02:03.575099",
          "status": "completed"
        },
        "tags": []
      },
      "outputs": [],
      "source": [
        "# transported_NAs(df=train_df, col='Name')"
      ]
    },
    {
      "cell_type": "markdown",
      "id": "d7bde32d",
      "metadata": {
        "id": "d7bde32d",
        "papermill": {
          "duration": 0.032807,
          "end_time": "2022-08-10T12:02:03.681836",
          "exception": false,
          "start_time": "2022-08-10T12:02:03.649029",
          "status": "completed"
        },
        "tags": []
      },
      "source": [
        "**Analysis of Passenger Names**\n",
        "* We filled the missing values with 'NoFirstName NoSurname'\n",
        "* There are 20 passengers with the same name, but overall these are different entries.\n",
        "* Passengers with duplicate names appear to have a slightly lower likelihood of being transported, but it is a small data set."
      ]
    },
    {
      "cell_type": "markdown",
      "id": "e9f8bfde",
      "metadata": {
        "id": "e9f8bfde",
        "papermill": {
          "duration": 0.031873,
          "end_time": "2022-08-10T12:02:03.746624",
          "exception": false,
          "start_time": "2022-08-10T12:02:03.714751",
          "status": "completed"
        },
        "tags": []
      },
      "source": [
        "### Home Planet\n",
        "*Definition: The planet the passenger departed from, typically their planet of permanent residence.*"
      ]
    },
    {
      "cell_type": "code",
      "execution_count": null,
      "id": "474849d6",
      "metadata": {
        "execution": {
          "iopub.execute_input": "2022-08-10T12:02:03.813980Z",
          "iopub.status.busy": "2022-08-10T12:02:03.813343Z",
          "iopub.status.idle": "2022-08-10T12:02:03.988233Z",
          "shell.execute_reply": "2022-08-10T12:02:03.986966Z"
        },
        "id": "474849d6",
        "outputId": "b2be77b5-de7a-4305-a4f8-74e25ff0c764",
        "papermill": {
          "duration": 0.211927,
          "end_time": "2022-08-10T12:02:03.990846",
          "exception": false,
          "start_time": "2022-08-10T12:02:03.778919",
          "status": "completed"
        },
        "tags": []
      },
      "outputs": [
        {
          "data": {
            "image/png": "[encoded data removed]",
            "text/plain": [
              "<Figure size 720x360 with 1 Axes>"
            ]
          },
          "metadata": {
            "needs_background": "light"
          },
          "output_type": "display_data"
        }
      ],
      "source": [
        "plot_categorical_barh(df=train_df, \n",
        "                      col='HomePlanet',\n",
        "                      color=['y', 'b', 'g'],\n",
        "                      title='Distribution of Passenger Home Planets -- Train Data')"
      ]
    },
    {
      "cell_type": "code",
      "execution_count": null,
      "id": "1c84aa37",
      "metadata": {
        "execution": {
          "iopub.execute_input": "2022-08-10T12:02:04.059169Z",
          "iopub.status.busy": "2022-08-10T12:02:04.058373Z",
          "iopub.status.idle": "2022-08-10T12:02:04.253717Z",
          "shell.execute_reply": "2022-08-10T12:02:04.252523Z"
        },
        "id": "1c84aa37",
        "outputId": "bdd8b62f-37d0-44fe-b7d1-f9f0cf32427c",
        "papermill": {
          "duration": 0.232112,
          "end_time": "2022-08-10T12:02:04.256473",
          "exception": false,
          "start_time": "2022-08-10T12:02:04.024361",
          "status": "completed"
        },
        "tags": []
      },
      "outputs": [
        {
          "data": {
            "image/png": "[encoded data removed]",
            "text/plain": [
              "<Figure size 720x360 with 1 Axes>"
            ]
          },
          "metadata": {
            "needs_background": "light"
          },
          "output_type": "display_data"
        }
      ],
      "source": [
        "plot_transported_pct(df=train_df,\n",
        "                     col='HomePlanet',\n",
        "                     title='Percentage Transported by Home Planet -- Train Data')"
      ]
    },
    {
      "cell_type": "markdown",
      "id": "0b835d93",
      "metadata": {
        "id": "0b835d93",
        "papermill": {
          "duration": 0.03244,
          "end_time": "2022-08-10T12:02:04.321894",
          "exception": false,
          "start_time": "2022-08-10T12:02:04.289454",
          "status": "completed"
        },
        "tags": []
      },
      "source": [
        "**Analysis of HomePlanet**\n",
        "* A majority of passengers are from Earth.\n",
        "* However, passengers from Earth appear to be almost 10% less likely to be transported, while passengers from Europa are 10%+ more likely to be transported. "
      ]
    },
    {
      "cell_type": "markdown",
      "id": "441b6ae0",
      "metadata": {
        "id": "441b6ae0",
        "papermill": {
          "duration": 0.032517,
          "end_time": "2022-08-10T12:02:04.387295",
          "exception": false,
          "start_time": "2022-08-10T12:02:04.354778",
          "status": "completed"
        },
        "tags": []
      },
      "source": [
        "### CryoSleep\n",
        "*Indicates whether the passenger elected to be put into suspended animation for the duration of the voyage. Passengers in cryosleep are confined to their cabins.*"
      ]
    },
    {
      "cell_type": "code",
      "execution_count": null,
      "id": "1795db26",
      "metadata": {
        "execution": {
          "iopub.execute_input": "2022-08-10T12:02:04.454997Z",
          "iopub.status.busy": "2022-08-10T12:02:04.454318Z",
          "iopub.status.idle": "2022-08-10T12:02:04.628145Z",
          "shell.execute_reply": "2022-08-10T12:02:04.626900Z"
        },
        "id": "1795db26",
        "outputId": "713747e1-5712-4293-cb9d-f6b792ad843f",
        "papermill": {
          "duration": 0.210771,
          "end_time": "2022-08-10T12:02:04.630738",
          "exception": false,
          "start_time": "2022-08-10T12:02:04.419967",
          "status": "completed"
        },
        "tags": []
      },
      "outputs": [
        {
          "data": {
            "image/png": "[encoded data removed]",
            "text/plain": [
              "<Figure size 720x360 with 1 Axes>"
            ]
          },
          "metadata": {
            "needs_background": "light"
          },
          "output_type": "display_data"
        }
      ],
      "source": [
        "plot_categorical_barh(df=train_df, \n",
        "                      col='CryoSleep',\n",
        "                      title='Distribution of Passengers in CryoSleep -- Train Data')"
      ]
    },
    {
      "cell_type": "code",
      "execution_count": null,
      "id": "cd950603",
      "metadata": {
        "execution": {
          "iopub.execute_input": "2022-08-10T12:02:04.699737Z",
          "iopub.status.busy": "2022-08-10T12:02:04.699217Z",
          "iopub.status.idle": "2022-08-10T12:02:04.907456Z",
          "shell.execute_reply": "2022-08-10T12:02:04.906223Z"
        },
        "id": "cd950603",
        "outputId": "1b7a12d5-423c-471a-be3a-7002b2839d53",
        "papermill": {
          "duration": 0.245601,
          "end_time": "2022-08-10T12:02:04.910329",
          "exception": false,
          "start_time": "2022-08-10T12:02:04.664728",
          "status": "completed"
        },
        "tags": []
      },
      "outputs": [
        {
          "data": {
            "image/png": "[encoded data removed]",
            "text/plain": [
              "<Figure size 720x360 with 1 Axes>"
            ]
          },
          "metadata": {
            "needs_background": "light"
          },
          "output_type": "display_data"
        }
      ],
      "source": [
        "plot_transported_pct(df=train_df,\n",
        "                     col='CryoSleep',\n",
        "                     title='Passengers in CryoSleep who were Transported -- Train Data')"
      ]
    },
    {
      "cell_type": "markdown",
      "id": "e8428296",
      "metadata": {
        "id": "e8428296",
        "papermill": {
          "duration": 0.033826,
          "end_time": "2022-08-10T12:02:04.978643",
          "exception": false,
          "start_time": "2022-08-10T12:02:04.944817",
          "status": "completed"
        },
        "tags": []
      },
      "source": [
        "**Analysis of CryoSleep**\n",
        "* Approximately 35% of passengers are in CryoSleep. \n",
        "* Passengers who are in cryo sleep appear to have an almost 80 percent chance of being transported, compared to approximately 35 percent for those who are not in cryo sleep. "
      ]
    },
    {
      "cell_type": "markdown",
      "id": "5815bc61",
      "metadata": {
        "id": "5815bc61",
        "papermill": {
          "duration": 0.033945,
          "end_time": "2022-08-10T12:02:05.047300",
          "exception": false,
          "start_time": "2022-08-10T12:02:05.013355",
          "status": "completed"
        },
        "tags": []
      },
      "source": [
        "### Cabin\n",
        "*The cabin number where the passenger is staying. Takes the form deck/num/side, where side can be either P for Port or S for Starboard. Parsed cabin into Cabin_Deck, Cabin_Num, and Cabin_Side features.*"
      ]
    },
    {
      "cell_type": "code",
      "execution_count": null,
      "id": "a105119a",
      "metadata": {
        "execution": {
          "iopub.execute_input": "2022-08-10T12:02:05.117709Z",
          "iopub.status.busy": "2022-08-10T12:02:05.116862Z",
          "iopub.status.idle": "2022-08-10T12:02:05.323545Z",
          "shell.execute_reply": "2022-08-10T12:02:05.322277Z"
        },
        "id": "a105119a",
        "outputId": "0e901cc6-8e04-4385-b958-69e6c8bc8da9",
        "papermill": {
          "duration": 0.244778,
          "end_time": "2022-08-10T12:02:05.326244",
          "exception": false,
          "start_time": "2022-08-10T12:02:05.081466",
          "status": "completed"
        },
        "tags": []
      },
      "outputs": [
        {
          "data": {
            "image/png": "[encoded data removed]",
            "text/plain": [
              "<Figure size 720x360 with 1 Axes>"
            ]
          },
          "metadata": {
            "needs_background": "light"
          },
          "output_type": "display_data"
        }
      ],
      "source": [
        "plot_categorical_barh(df=train_df,\n",
        "                      col='Cabin_Deck',\n",
        "                      title='Passenger Distribution by Cabin Deck -- Train Data')"
      ]
    },
    {
      "cell_type": "code",
      "execution_count": null,
      "id": "51dd3e50",
      "metadata": {
        "execution": {
          "iopub.execute_input": "2022-08-10T12:02:05.396028Z",
          "iopub.status.busy": "2022-08-10T12:02:05.395302Z",
          "iopub.status.idle": "2022-08-10T12:02:05.628617Z",
          "shell.execute_reply": "2022-08-10T12:02:05.627349Z"
        },
        "id": "51dd3e50",
        "outputId": "60b56bde-a137-4da9-a1f4-4efd77600197",
        "papermill": {
          "duration": 0.271542,
          "end_time": "2022-08-10T12:02:05.631650",
          "exception": false,
          "start_time": "2022-08-10T12:02:05.360108",
          "status": "completed"
        },
        "tags": []
      },
      "outputs": [
        {
          "data": {
            "image/png": "[encoded data removed]",
            "text/plain": [
              "<Figure size 720x360 with 1 Axes>"
            ]
          },
          "metadata": {
            "needs_background": "light"
          },
          "output_type": "display_data"
        }
      ],
      "source": [
        "plot_transported_pct(df=train_df,\n",
        "                     col='Cabin_Deck',\n",
        "                     title='Passengers Transported by Cabin Deck -- Train Data')"
      ]
    },
    {
      "cell_type": "code",
      "execution_count": null,
      "id": "66d75ced",
      "metadata": {
        "execution": {
          "iopub.execute_input": "2022-08-10T12:02:05.703747Z",
          "iopub.status.busy": "2022-08-10T12:02:05.703082Z",
          "iopub.status.idle": "2022-08-10T12:02:06.036262Z",
          "shell.execute_reply": "2022-08-10T12:02:06.035000Z"
        },
        "id": "66d75ced",
        "outputId": "add1e7ce-b36d-458f-ea3b-bb6318219cec",
        "papermill": {
          "duration": 0.373343,
          "end_time": "2022-08-10T12:02:06.039184",
          "exception": false,
          "start_time": "2022-08-10T12:02:05.665841",
          "status": "completed"
        },
        "tags": []
      },
      "outputs": [
        {
          "data": {
            "image/png": "[encoded data removed]",
            "text/plain": [
              "<Figure size 720x360 with 1 Axes>"
            ]
          },
          "metadata": {
            "needs_background": "light"
          },
          "output_type": "display_data"
        }
      ],
      "source": [
        "plot_categorical_barh(df=train_df,\n",
        "                      col='Cabin_Side',\n",
        "                      title='Passenger Distribution by Cabin Side -- Train Data')"
      ]
    },
    {
      "cell_type": "code",
      "execution_count": null,
      "id": "0729af78",
      "metadata": {
        "execution": {
          "iopub.execute_input": "2022-08-10T12:02:06.113936Z",
          "iopub.status.busy": "2022-08-10T12:02:06.113117Z",
          "iopub.status.idle": "2022-08-10T12:02:06.307318Z",
          "shell.execute_reply": "2022-08-10T12:02:06.305814Z"
        },
        "id": "0729af78",
        "outputId": "27ef2c24-2021-44cc-951c-f4eb4bb28310",
        "papermill": {
          "duration": 0.234816,
          "end_time": "2022-08-10T12:02:06.310284",
          "exception": false,
          "start_time": "2022-08-10T12:02:06.075468",
          "status": "completed"
        },
        "tags": []
      },
      "outputs": [
        {
          "data": {
            "image/png": "[encoded data removed]",
            "text/plain": [
              "<Figure size 720x360 with 1 Axes>"
            ]
          },
          "metadata": {
            "needs_background": "light"
          },
          "output_type": "display_data"
        }
      ],
      "source": [
        "plot_transported_pct(df=train_df,\n",
        "                     col='Cabin_Side',\n",
        "                     title='Passengers Transported by Cabin Side -- Train Data')"
      ]
    },
    {
      "cell_type": "markdown",
      "id": "4c155278",
      "metadata": {
        "id": "4c155278",
        "papermill": {
          "duration": 0.034789,
          "end_time": "2022-08-10T12:02:06.380541",
          "exception": false,
          "start_time": "2022-08-10T12:02:06.345752",
          "status": "completed"
        },
        "tags": []
      },
      "source": [
        "**Analysis of Cabin and Related Features**\n",
        "* Cabin Decks G and F contain the most passengers, but those passengers on Decks B and C are the most likely to be transported.\n",
        "* Passengers are generally evenly distributed between the Port and Starboard sides with passengers on the Starboard side having a slightly higher chance of being transported."
      ]
    },
    {
      "cell_type": "markdown",
      "id": "ca51b77a",
      "metadata": {
        "id": "ca51b77a",
        "papermill": {
          "duration": 0.034038,
          "end_time": "2022-08-10T12:02:06.449172",
          "exception": false,
          "start_time": "2022-08-10T12:02:06.415134",
          "status": "completed"
        },
        "tags": []
      },
      "source": [
        "### Destination\n",
        "*The planet the passenger will be debarking to.*\n"
      ]
    },
    {
      "cell_type": "code",
      "execution_count": null,
      "id": "bae4988d",
      "metadata": {
        "execution": {
          "iopub.execute_input": "2022-08-10T12:02:06.519803Z",
          "iopub.status.busy": "2022-08-10T12:02:06.519367Z",
          "iopub.status.idle": "2022-08-10T12:02:06.702770Z",
          "shell.execute_reply": "2022-08-10T12:02:06.701403Z"
        },
        "id": "bae4988d",
        "outputId": "a2675ff2-964d-4665-f60c-3729b3aa025b",
        "papermill": {
          "duration": 0.221834,
          "end_time": "2022-08-10T12:02:06.705427",
          "exception": false,
          "start_time": "2022-08-10T12:02:06.483593",
          "status": "completed"
        },
        "tags": []
      },
      "outputs": [
        {
          "data": {
            "image/png": "[encoded data removed]",
            "text/plain": [
              "<Figure size 720x360 with 1 Axes>"
            ]
          },
          "metadata": {
            "needs_background": "light"
          },
          "output_type": "display_data"
        }
      ],
      "source": [
        "plot_categorical_barh(df=df,\n",
        "                      col='Destination',\n",
        "                      color=['r', 'b', 'g'],\n",
        "                      title='Distribution of Passenger Destinations -- Train Data')"
      ]
    },
    {
      "cell_type": "code",
      "execution_count": null,
      "id": "925adc94",
      "metadata": {
        "execution": {
          "iopub.execute_input": "2022-08-10T12:02:06.777115Z",
          "iopub.status.busy": "2022-08-10T12:02:06.776697Z",
          "iopub.status.idle": "2022-08-10T12:02:06.977422Z",
          "shell.execute_reply": "2022-08-10T12:02:06.976269Z"
        },
        "id": "925adc94",
        "outputId": "9de5a52e-41a3-45fa-e42d-343d187011fe",
        "papermill": {
          "duration": 0.239783,
          "end_time": "2022-08-10T12:02:06.980161",
          "exception": false,
          "start_time": "2022-08-10T12:02:06.740378",
          "status": "completed"
        },
        "tags": []
      },
      "outputs": [
        {
          "data": {
            "image/png": "[encoded data removed]",
            "text/plain": [
              "<Figure size 720x360 with 1 Axes>"
            ]
          },
          "metadata": {
            "needs_background": "light"
          },
          "output_type": "display_data"
        }
      ],
      "source": [
        "plot_transported_pct(df=train_df,\n",
        "                     col='Destination',\n",
        "                     title='Distribution of Transported Passengers by Destination -- Train Data')"
      ]
    },
    {
      "cell_type": "markdown",
      "id": "56c7859a",
      "metadata": {
        "id": "56c7859a",
        "papermill": {
          "duration": 0.035285,
          "end_time": "2022-08-10T12:02:07.051560",
          "exception": false,
          "start_time": "2022-08-10T12:02:07.016275",
          "status": "completed"
        },
        "tags": []
      },
      "source": [
        "**Analysis of Destination:**\n",
        "* TRAPPIST-1e is the most common destination and guests traveling there have roughly the same chance of being transported as the full passenger population.\n",
        "* Passengers traveling to the destination '55 Cancri e' appaer to have a slightly elevated probability of being transported."
      ]
    },
    {
      "cell_type": "markdown",
      "id": "f66f07b2",
      "metadata": {
        "id": "f66f07b2",
        "papermill": {
          "duration": 0.035128,
          "end_time": "2022-08-10T12:02:07.122540",
          "exception": false,
          "start_time": "2022-08-10T12:02:07.087412",
          "status": "completed"
        },
        "tags": []
      },
      "source": [
        "### VIP Status\n",
        "*Whether the passenger has paid for special VIP service during the voyage.*"
      ]
    },
    {
      "cell_type": "code",
      "execution_count": null,
      "id": "68d07aa5",
      "metadata": {
        "execution": {
          "iopub.execute_input": "2022-08-10T12:02:07.195762Z",
          "iopub.status.busy": "2022-08-10T12:02:07.195360Z",
          "iopub.status.idle": "2022-08-10T12:02:07.365238Z",
          "shell.execute_reply": "2022-08-10T12:02:07.363976Z"
        },
        "id": "68d07aa5",
        "outputId": "340a4a39-60b6-4a26-8936-1bc490e66ae2",
        "papermill": {
          "duration": 0.20936,
          "end_time": "2022-08-10T12:02:07.367842",
          "exception": false,
          "start_time": "2022-08-10T12:02:07.158482",
          "status": "completed"
        },
        "tags": []
      },
      "outputs": [
        {
          "data": {
            "image/png": "[encoded data removed]",
            "text/plain": [
              "<Figure size 720x360 with 1 Axes>"
            ]
          },
          "metadata": {
            "needs_background": "light"
          },
          "output_type": "display_data"
        }
      ],
      "source": [
        "plot_categorical_barh(df=train_df,\n",
        "                      col='VIP',\n",
        "                      title='Distribution of Passenger VIP Status -- Train Data')"
      ]
    },
    {
      "cell_type": "code",
      "execution_count": null,
      "id": "56ef8a64",
      "metadata": {
        "execution": {
          "iopub.execute_input": "2022-08-10T12:02:07.440953Z",
          "iopub.status.busy": "2022-08-10T12:02:07.440512Z",
          "iopub.status.idle": "2022-08-10T12:02:07.628367Z",
          "shell.execute_reply": "2022-08-10T12:02:07.627131Z"
        },
        "id": "56ef8a64",
        "outputId": "18dd3b99-5b2c-43df-e0c8-371eea1c0107",
        "papermill": {
          "duration": 0.227673,
          "end_time": "2022-08-10T12:02:07.631073",
          "exception": false,
          "start_time": "2022-08-10T12:02:07.403400",
          "status": "completed"
        },
        "tags": []
      },
      "outputs": [
        {
          "data": {
            "image/png": "[encoded data removed]",
            "text/plain": [
              "<Figure size 720x360 with 1 Axes>"
            ]
          },
          "metadata": {
            "needs_background": "light"
          },
          "output_type": "display_data"
        }
      ],
      "source": [
        "plot_transported_pct(df=train_df,\n",
        "                     col='VIP',\n",
        "                     title='VIP Passengers who were Transported -- Train Data')"
      ]
    },
    {
      "cell_type": "markdown",
      "id": "1695c52c",
      "metadata": {
        "id": "1695c52c",
        "papermill": {
          "duration": 0.035852,
          "end_time": "2022-08-10T12:02:07.703072",
          "exception": false,
          "start_time": "2022-08-10T12:02:07.667220",
          "status": "completed"
        },
        "tags": []
      },
      "source": [
        "**Analysis of VIP Status**\n",
        "* Although relatively few passengers paid for VIP status, those tho did appear to have a slightly lower rate of transportation than the overall passenger population."
      ]
    },
    {
      "cell_type": "markdown",
      "id": "266a8cc4",
      "metadata": {
        "id": "266a8cc4",
        "papermill": {
          "duration": 0.03634,
          "end_time": "2022-08-10T12:02:07.775202",
          "exception": false,
          "start_time": "2022-08-10T12:02:07.738862",
          "status": "completed"
        },
        "tags": []
      },
      "source": [
        "## Quantitative Feature Analysis"
      ]
    },
    {
      "cell_type": "markdown",
      "id": "60da7b34",
      "metadata": {
        "id": "60da7b34",
        "papermill": {
          "duration": 0.037518,
          "end_time": "2022-08-10T12:02:07.849273",
          "exception": false,
          "start_time": "2022-08-10T12:02:07.811755",
          "status": "completed"
        },
        "tags": []
      },
      "source": [
        "### Age\n",
        "*The age of the passenger.*"
      ]
    },
    {
      "cell_type": "code",
      "execution_count": null,
      "id": "a544e25a",
      "metadata": {
        "execution": {
          "iopub.execute_input": "2022-08-10T12:02:07.922959Z",
          "iopub.status.busy": "2022-08-10T12:02:07.922531Z",
          "iopub.status.idle": "2022-08-10T12:02:07.934498Z",
          "shell.execute_reply": "2022-08-10T12:02:07.933289Z"
        },
        "id": "a544e25a",
        "outputId": "0c732a69-2bb3-4703-c67f-e27aba54629e",
        "papermill": {
          "duration": 0.051723,
          "end_time": "2022-08-10T12:02:07.937150",
          "exception": false,
          "start_time": "2022-08-10T12:02:07.885427",
          "status": "completed"
        },
        "tags": []
      },
      "outputs": [
        {
          "data": {
            "text/plain": [
              "count    8693.00\n",
              "mean       28.79\n",
              "std        14.34\n",
              "min         0.00\n",
              "25%        20.00\n",
              "50%        27.00\n",
              "75%        37.00\n",
              "max        79.00\n",
              "Name: Age, dtype: float64"
            ]
          },
          "execution_count": 42,
          "metadata": {},
          "output_type": "execute_result"
        }
      ],
      "source": [
        "round(train_df['Age'].describe(), 2)"
      ]
    },
    {
      "cell_type": "code",
      "execution_count": null,
      "id": "ed2d13ff",
      "metadata": {
        "execution": {
          "iopub.execute_input": "2022-08-10T12:02:08.010146Z",
          "iopub.status.busy": "2022-08-10T12:02:08.009691Z",
          "iopub.status.idle": "2022-08-10T12:02:08.231840Z",
          "shell.execute_reply": "2022-08-10T12:02:08.230600Z"
        },
        "id": "ed2d13ff",
        "outputId": "a18888bf-64f8-4ae6-f157-513c5caa1878",
        "papermill": {
          "duration": 0.261703,
          "end_time": "2022-08-10T12:02:08.234327",
          "exception": false,
          "start_time": "2022-08-10T12:02:07.972624",
          "status": "completed"
        },
        "tags": []
      },
      "outputs": [
        {
          "data": {
            "image/png": "[encoded data removed]",
            "text/plain": [
              "<Figure size 720x432 with 1 Axes>"
            ]
          },
          "metadata": {
            "needs_background": "light"
          },
          "output_type": "display_data"
        }
      ],
      "source": [
        "train_df['Age'].plot(kind='hist',\n",
        "                     title='Distribution of Passenger Ages -- Train Data',\n",
        "                     figsize = (10, 6))\n",
        "plt.show()"
      ]
    },
    {
      "cell_type": "markdown",
      "id": "82a92ff2",
      "metadata": {
        "id": "82a92ff2",
        "papermill": {
          "duration": 0.036021,
          "end_time": "2022-08-10T12:02:08.306205",
          "exception": false,
          "start_time": "2022-08-10T12:02:08.270184",
          "status": "completed"
        },
        "tags": []
      },
      "source": [
        "**Analysis of Passenger Age**\n",
        "* The mean and median age are roughly 27 and 28 years old, indicating that the data is only lightly skewed.\n",
        "* The age range is 0 to 79, with the fewest passengers at the upper end of the range."
      ]
    },
    {
      "cell_type": "markdown",
      "id": "56c6b78e",
      "metadata": {
        "id": "56c6b78e",
        "papermill": {
          "duration": 0.03554,
          "end_time": "2022-08-10T12:02:08.377789",
          "exception": false,
          "start_time": "2022-08-10T12:02:08.342249",
          "status": "completed"
        },
        "tags": []
      },
      "source": [
        "### Room Service\n",
        "*Amount passenger billed for room service.*\n"
      ]
    },
    {
      "cell_type": "code",
      "execution_count": null,
      "id": "37ebea8a",
      "metadata": {
        "execution": {
          "iopub.execute_input": "2022-08-10T12:02:08.452368Z",
          "iopub.status.busy": "2022-08-10T12:02:08.451609Z",
          "iopub.status.idle": "2022-08-10T12:02:08.462464Z",
          "shell.execute_reply": "2022-08-10T12:02:08.461572Z"
        },
        "id": "37ebea8a",
        "outputId": "3ff1c1bb-9a72-4bf3-b08a-17e1f3185f0a",
        "papermill": {
          "duration": 0.050989,
          "end_time": "2022-08-10T12:02:08.464858",
          "exception": false,
          "start_time": "2022-08-10T12:02:08.413869",
          "status": "completed"
        },
        "tags": []
      },
      "outputs": [
        {
          "data": {
            "text/plain": [
              "count     8693.00\n",
              "mean       220.01\n",
              "std        660.52\n",
              "min          0.00\n",
              "25%          0.00\n",
              "50%          0.00\n",
              "75%         41.00\n",
              "max      14327.00\n",
              "Name: RoomService, dtype: float64"
            ]
          },
          "execution_count": 44,
          "metadata": {},
          "output_type": "execute_result"
        }
      ],
      "source": [
        "round(train_df['RoomService'].describe(), 2)"
      ]
    },
    {
      "cell_type": "code",
      "execution_count": null,
      "id": "9d73029f",
      "metadata": {
        "execution": {
          "iopub.execute_input": "2022-08-10T12:02:08.539858Z",
          "iopub.status.busy": "2022-08-10T12:02:08.539107Z",
          "iopub.status.idle": "2022-08-10T12:02:09.233617Z",
          "shell.execute_reply": "2022-08-10T12:02:09.232326Z"
        },
        "id": "9d73029f",
        "outputId": "60226d4f-0a13-443c-9c92-40d1343b57c1",
        "papermill": {
          "duration": 0.734652,
          "end_time": "2022-08-10T12:02:09.236264",
          "exception": false,
          "start_time": "2022-08-10T12:02:08.501612",
          "status": "completed"
        },
        "tags": []
      },
      "outputs": [
        {
          "data": {
            "image/png": "[encoded data removed]",
            "text/plain": [
              "<Figure size 720x432 with 1 Axes>"
            ]
          },
          "metadata": {
            "needs_background": "light"
          },
          "output_type": "display_data"
        }
      ],
      "source": [
        "train_df['RoomService'].plot(kind='hist',\n",
        "                             log=True,\n",
        "                             bins=20,\n",
        "                             title='Distribution of Passenger Room Service Spend -- Train Data, Log Scale',\n",
        "                             figsize=(10, 6))\n",
        "plt.show()"
      ]
    },
    {
      "cell_type": "code",
      "execution_count": null,
      "id": "94520d16",
      "metadata": {
        "execution": {
          "iopub.execute_input": "2022-08-10T12:02:09.380395Z",
          "iopub.status.busy": "2022-08-10T12:02:09.379136Z",
          "iopub.status.idle": "2022-08-10T12:02:09.387776Z",
          "shell.execute_reply": "2022-08-10T12:02:09.386400Z"
        },
        "id": "94520d16",
        "outputId": "1efeb106-b29f-463e-f11d-8344a0905d86",
        "papermill": {
          "duration": 0.04893,
          "end_time": "2022-08-10T12:02:09.390326",
          "exception": false,
          "start_time": "2022-08-10T12:02:09.341396",
          "status": "completed"
        },
        "tags": []
      },
      "outputs": [
        {
          "name": "stdout",
          "output_type": "stream",
          "text": [
            "Percentage of passengers spending any money on room service: 0.34\n"
          ]
        }
      ],
      "source": [
        "print('Percentage of passengers spending any money on room service:', \n",
        "  round(train_df[train_df['RoomService'] > 0].shape[0] / train_df.shape[0], 2))"
      ]
    },
    {
      "cell_type": "code",
      "execution_count": null,
      "id": "81f4f8c9",
      "metadata": {
        "execution": {
          "iopub.execute_input": "2022-08-10T12:02:09.466084Z",
          "iopub.status.busy": "2022-08-10T12:02:09.465286Z",
          "iopub.status.idle": "2022-08-10T12:02:09.626981Z",
          "shell.execute_reply": "2022-08-10T12:02:09.625720Z"
        },
        "id": "81f4f8c9",
        "outputId": "42a48a6f-ac52-4dd6-9338-88293a482bef",
        "papermill": {
          "duration": 0.202344,
          "end_time": "2022-08-10T12:02:09.629703",
          "exception": false,
          "start_time": "2022-08-10T12:02:09.427359",
          "status": "completed"
        },
        "tags": []
      },
      "outputs": [
        {
          "data": {
            "image/png": "[encoded data removed]",
            "text/plain": [
              "<Figure size 720x360 with 1 Axes>"
            ]
          },
          "metadata": {
            "needs_background": "light"
          },
          "output_type": "display_data"
        }
      ],
      "source": [
        "(\n",
        "    train_df[train_df['RoomService'] > 0][['RoomService', 'Transported']]\n",
        "    .groupby('Transported')\n",
        "    .agg('mean')\n",
        "    .plot(kind='barh',\n",
        "        figsize=(10,5),\n",
        "        color=['r'],\n",
        "        title='Passengers who Spent Any Money on Room Service  -- Train Data')\n",
        ")\n",
        "plt.show()"
      ]
    },
    {
      "cell_type": "markdown",
      "id": "261281a7",
      "metadata": {
        "id": "261281a7",
        "papermill": {
          "duration": 0.038094,
          "end_time": "2022-08-10T12:02:09.704407",
          "exception": false,
          "start_time": "2022-08-10T12:02:09.666313",
          "status": "completed"
        },
        "tags": []
      },
      "source": [
        "**Analysis of Room Service Spend**\n",
        "* Only 34% of passengers spent money on Room Service.\n",
        "* Of those who did, the data is heavily skewed by a few passengers who spent large amounts.\n",
        "* Passengers who spent any money on room service appear to have a lower likelihood of being transported. "
      ]
    },
    {
      "cell_type": "markdown",
      "id": "df396106",
      "metadata": {
        "id": "df396106",
        "papermill": {
          "duration": 0.037962,
          "end_time": "2022-08-10T12:02:09.780931",
          "exception": false,
          "start_time": "2022-08-10T12:02:09.742969",
          "status": "completed"
        },
        "tags": []
      },
      "source": [
        "### Food Court\n",
        "*Amount passenger spent at the food court*"
      ]
    },
    {
      "cell_type": "code",
      "execution_count": null,
      "id": "4c7d1517",
      "metadata": {
        "execution": {
          "iopub.execute_input": "2022-08-10T12:02:09.859560Z",
          "iopub.status.busy": "2022-08-10T12:02:09.858785Z",
          "iopub.status.idle": "2022-08-10T12:02:09.869522Z",
          "shell.execute_reply": "2022-08-10T12:02:09.868434Z"
        },
        "id": "4c7d1517",
        "outputId": "5926f65e-5610-44f7-e768-3f997389d0ad",
        "papermill": {
          "duration": 0.052413,
          "end_time": "2022-08-10T12:02:09.871861",
          "exception": false,
          "start_time": "2022-08-10T12:02:09.819448",
          "status": "completed"
        },
        "tags": []
      },
      "outputs": [
        {
          "data": {
            "text/plain": [
              "count     8693.00\n",
              "mean       448.43\n",
              "std       1595.79\n",
              "min          0.00\n",
              "25%          0.00\n",
              "50%          0.00\n",
              "75%         61.00\n",
              "max      29813.00\n",
              "Name: FoodCourt, dtype: float64"
            ]
          },
          "execution_count": 48,
          "metadata": {},
          "output_type": "execute_result"
        }
      ],
      "source": [
        "round(train_df['FoodCourt'].describe(), 2)"
      ]
    },
    {
      "cell_type": "code",
      "execution_count": null,
      "id": "c8136d7c",
      "metadata": {
        "execution": {
          "iopub.execute_input": "2022-08-10T12:02:09.948404Z",
          "iopub.status.busy": "2022-08-10T12:02:09.947605Z",
          "iopub.status.idle": "2022-08-10T12:02:10.447501Z",
          "shell.execute_reply": "2022-08-10T12:02:10.446333Z"
        },
        "id": "c8136d7c",
        "outputId": "5fad9fa5-a7a7-4406-c4d6-4ce4af0c56c5",
        "papermill": {
          "duration": 0.541652,
          "end_time": "2022-08-10T12:02:10.450378",
          "exception": false,
          "start_time": "2022-08-10T12:02:09.908726",
          "status": "completed"
        },
        "tags": []
      },
      "outputs": [
        {
          "data": {
            "image/png": "[encoded data removed]",
            "text/plain": [
              "<Figure size 720x432 with 1 Axes>"
            ]
          },
          "metadata": {
            "needs_background": "light"
          },
          "output_type": "display_data"
        }
      ],
      "source": [
        "train_df['FoodCourt'].plot(kind='hist',\n",
        "                           log=True,\n",
        "                           title='Distribution of Passenger Food Court Spend -- Train Data, Log Scale',\n",
        "                           bins=20,\n",
        "                           figsize=(10,6))\n",
        "plt.show()"
      ]
    },
    {
      "cell_type": "code",
      "execution_count": null,
      "id": "fd996bb6",
      "metadata": {
        "execution": {
          "iopub.execute_input": "2022-08-10T12:02:10.528204Z",
          "iopub.status.busy": "2022-08-10T12:02:10.527453Z",
          "iopub.status.idle": "2022-08-10T12:02:10.535970Z",
          "shell.execute_reply": "2022-08-10T12:02:10.534822Z"
        },
        "id": "fd996bb6",
        "outputId": "052593bb-31d0-4331-9326-de02f6a5cf7b",
        "papermill": {
          "duration": 0.051201,
          "end_time": "2022-08-10T12:02:10.539300",
          "exception": false,
          "start_time": "2022-08-10T12:02:10.488099",
          "status": "completed"
        },
        "tags": []
      },
      "outputs": [
        {
          "name": "stdout",
          "output_type": "stream",
          "text": [
            "Percentage of passengers spending any money at the Food Court: 0.35\n"
          ]
        }
      ],
      "source": [
        "print('Percentage of passengers spending any money at the Food Court:', \n",
        "  round(train_df[train_df['FoodCourt'] > 0].shape[0] / train_df.shape[0], 2))"
      ]
    },
    {
      "cell_type": "code",
      "execution_count": null,
      "id": "27839beb",
      "metadata": {
        "execution": {
          "iopub.execute_input": "2022-08-10T12:02:10.617779Z",
          "iopub.status.busy": "2022-08-10T12:02:10.616975Z",
          "iopub.status.idle": "2022-08-10T12:02:10.766123Z",
          "shell.execute_reply": "2022-08-10T12:02:10.764824Z"
        },
        "id": "27839beb",
        "outputId": "ca62808f-8b3c-4487-f1cd-dd2a3e5afb53",
        "papermill": {
          "duration": 0.191679,
          "end_time": "2022-08-10T12:02:10.769821",
          "exception": false,
          "start_time": "2022-08-10T12:02:10.578142",
          "status": "completed"
        },
        "tags": []
      },
      "outputs": [
        {
          "data": {
            "image/png": "[encoded data removed]",
            "text/plain": [
              "<Figure size 720x360 with 1 Axes>"
            ]
          },
          "metadata": {
            "needs_background": "light"
          },
          "output_type": "display_data"
        }
      ],
      "source": [
        "(\n",
        "    train_df[train_df['FoodCourt'] > 0][['FoodCourt', 'Transported']]\n",
        "    .groupby('Transported')\n",
        "    .agg('mean')\n",
        "    .plot(kind='barh',\n",
        "        figsize=(10,5),\n",
        "        color=['r'],\n",
        "        title='Passengers who Spent Any Money at the Food Court  -- Train Data')\n",
        ")\n",
        "plt.show()"
      ]
    },
    {
      "cell_type": "markdown",
      "id": "92a4bf97",
      "metadata": {
        "id": "92a4bf97",
        "papermill": {
          "duration": 0.038193,
          "end_time": "2022-08-10T12:02:10.846410",
          "exception": false,
          "start_time": "2022-08-10T12:02:10.808217",
          "status": "completed"
        },
        "tags": []
      },
      "source": [
        "**Analysis of Food Court Spend**\n",
        "* Similar to other categories, roughly one-third of passengers spent money in the food court.\n",
        "* The spend was heavily skewed by a few passengers spending large amounts.\n",
        "* Customers who spent money in the food court appear to be disproportionally transported compared to the overall passenger population. "
      ]
    },
    {
      "cell_type": "markdown",
      "id": "ad238b6c",
      "metadata": {
        "id": "ad238b6c",
        "papermill": {
          "duration": 0.039953,
          "end_time": "2022-08-10T12:02:10.924500",
          "exception": false,
          "start_time": "2022-08-10T12:02:10.884547",
          "status": "completed"
        },
        "tags": []
      },
      "source": [
        "### Shopping Mall\n",
        "*Amount passenger spent at shopping mall.*"
      ]
    },
    {
      "cell_type": "code",
      "execution_count": null,
      "id": "a766f831",
      "metadata": {
        "execution": {
          "iopub.execute_input": "2022-08-10T12:02:11.002328Z",
          "iopub.status.busy": "2022-08-10T12:02:11.001863Z",
          "iopub.status.idle": "2022-08-10T12:02:11.013097Z",
          "shell.execute_reply": "2022-08-10T12:02:11.012213Z"
        },
        "id": "a766f831",
        "outputId": "dd802b57-8fd0-4ae2-f89a-b4c244bd47cf",
        "papermill": {
          "duration": 0.053469,
          "end_time": "2022-08-10T12:02:11.015480",
          "exception": false,
          "start_time": "2022-08-10T12:02:10.962011",
          "status": "completed"
        },
        "tags": []
      },
      "outputs": [
        {
          "data": {
            "text/plain": [
              "count     8693.00\n",
              "mean       169.57\n",
              "std        598.01\n",
              "min          0.00\n",
              "25%          0.00\n",
              "50%          0.00\n",
              "75%         22.00\n",
              "max      23492.00\n",
              "Name: ShoppingMall, dtype: float64"
            ]
          },
          "execution_count": 52,
          "metadata": {},
          "output_type": "execute_result"
        }
      ],
      "source": [
        "round(train_df['ShoppingMall'].describe(), 2)"
      ]
    },
    {
      "cell_type": "code",
      "execution_count": null,
      "id": "f99d04ba",
      "metadata": {
        "execution": {
          "iopub.execute_input": "2022-08-10T12:02:11.096376Z",
          "iopub.status.busy": "2022-08-10T12:02:11.094499Z",
          "iopub.status.idle": "2022-08-10T12:02:11.787419Z",
          "shell.execute_reply": "2022-08-10T12:02:11.786121Z"
        },
        "id": "f99d04ba",
        "outputId": "304cf68e-df4f-4224-b01c-eea821b43ff0",
        "papermill": {
          "duration": 0.736227,
          "end_time": "2022-08-10T12:02:11.790306",
          "exception": false,
          "start_time": "2022-08-10T12:02:11.054079",
          "status": "completed"
        },
        "tags": []
      },
      "outputs": [
        {
          "data": {
            "image/png": "[encoded data removed]",
            "text/plain": [
              "<Figure size 720x432 with 1 Axes>"
            ]
          },
          "metadata": {
            "needs_background": "light"
          },
          "output_type": "display_data"
        }
      ],
      "source": [
        "train_df['ShoppingMall'].plot(kind='hist',\n",
        "                              log=True,\n",
        "                              bins=20,\n",
        "                              title='Distribution of Passenger Shopping Mall Spend -- Train Data, Log Scale',\n",
        "                              figsize=(10,6))\n",
        "plt.show()"
      ]
    },
    {
      "cell_type": "code",
      "execution_count": null,
      "id": "2cdb49d7",
      "metadata": {
        "execution": {
          "iopub.execute_input": "2022-08-10T12:02:11.880269Z",
          "iopub.status.busy": "2022-08-10T12:02:11.879812Z",
          "iopub.status.idle": "2022-08-10T12:02:11.890710Z",
          "shell.execute_reply": "2022-08-10T12:02:11.889135Z"
        },
        "id": "2cdb49d7",
        "outputId": "42a83112-1939-4bf8-af77-39f4a1dfe37e",
        "papermill": {
          "duration": 0.063452,
          "end_time": "2022-08-10T12:02:11.893857",
          "exception": false,
          "start_time": "2022-08-10T12:02:11.830405",
          "status": "completed"
        },
        "tags": []
      },
      "outputs": [
        {
          "name": "stdout",
          "output_type": "stream",
          "text": [
            "Percentage of passengers spending any money at the shopping mall: 0.33\n"
          ]
        }
      ],
      "source": [
        "print('Percentage of passengers spending any money at the shopping mall:', \n",
        "  round(train_df[train_df['ShoppingMall'] > 0].shape[0] / train_df.shape[0], 2))"
      ]
    },
    {
      "cell_type": "code",
      "execution_count": null,
      "id": "eacedfb1",
      "metadata": {
        "execution": {
          "iopub.execute_input": "2022-08-10T12:02:11.973868Z",
          "iopub.status.busy": "2022-08-10T12:02:11.972990Z",
          "iopub.status.idle": "2022-08-10T12:02:12.174584Z",
          "shell.execute_reply": "2022-08-10T12:02:12.173210Z"
        },
        "id": "eacedfb1",
        "outputId": "24df0a20-e0d9-428d-a4cf-522d5eb4457d",
        "papermill": {
          "duration": 0.244477,
          "end_time": "2022-08-10T12:02:12.177347",
          "exception": false,
          "start_time": "2022-08-10T12:02:11.932870",
          "status": "completed"
        },
        "tags": []
      },
      "outputs": [
        {
          "data": {
            "image/png": "[encoded data removed]",
            "text/plain": [
              "<Figure size 720x360 with 1 Axes>"
            ]
          },
          "metadata": {
            "needs_background": "light"
          },
          "output_type": "display_data"
        }
      ],
      "source": [
        "(\n",
        "    train_df[train_df['ShoppingMall'] > 0][['ShoppingMall', 'Transported']]\n",
        "    .groupby('Transported')\n",
        "    .agg('median')\n",
        "    .plot(kind='barh',\n",
        "        figsize=(10,5),\n",
        "        color=['r', 'b'],\n",
        "        title='Passengers who Spent Any Money at the shopping mall  -- Train Data')\n",
        ")\n",
        "plt.show()"
      ]
    },
    {
      "cell_type": "markdown",
      "id": "50b57618",
      "metadata": {
        "id": "50b57618",
        "papermill": {
          "duration": 0.039088,
          "end_time": "2022-08-10T12:02:12.256181",
          "exception": false,
          "start_time": "2022-08-10T12:02:12.217093",
          "status": "completed"
        },
        "tags": []
      },
      "source": [
        "**Analysis of Shopping Mall Spend**\n",
        "* Similar to other categories, roughly one-third of passengers spent money in the Shopping Mall.\n",
        "* This spend is heavily skewed by a small number of passengers who spent large amounts.\n",
        "* Passengers who spent money in the Shopping Mall appear to be much more likely to be transported."
      ]
    },
    {
      "cell_type": "markdown",
      "id": "f1be3fd6",
      "metadata": {
        "id": "f1be3fd6",
        "papermill": {
          "duration": 0.038708,
          "end_time": "2022-08-10T12:02:12.334533",
          "exception": false,
          "start_time": "2022-08-10T12:02:12.295825",
          "status": "completed"
        },
        "tags": []
      },
      "source": [
        "### Spa\n",
        "*Amount passenger spent at the spa*"
      ]
    },
    {
      "cell_type": "code",
      "execution_count": null,
      "id": "18a9773d",
      "metadata": {
        "execution": {
          "iopub.execute_input": "2022-08-10T12:02:12.415970Z",
          "iopub.status.busy": "2022-08-10T12:02:12.415532Z",
          "iopub.status.idle": "2022-08-10T12:02:12.429338Z",
          "shell.execute_reply": "2022-08-10T12:02:12.427998Z"
        },
        "id": "18a9773d",
        "outputId": "14edce55-15bb-4f0f-bcfb-08da7e14f23c",
        "papermill": {
          "duration": 0.056393,
          "end_time": "2022-08-10T12:02:12.431838",
          "exception": false,
          "start_time": "2022-08-10T12:02:12.375445",
          "status": "completed"
        },
        "tags": []
      },
      "outputs": [
        {
          "data": {
            "text/plain": [
              "count     8693.00\n",
              "mean       304.59\n",
              "std       1125.56\n",
              "min          0.00\n",
              "25%          0.00\n",
              "50%          0.00\n",
              "75%         53.00\n",
              "max      22408.00\n",
              "Name: Spa, dtype: float64"
            ]
          },
          "execution_count": 56,
          "metadata": {},
          "output_type": "execute_result"
        }
      ],
      "source": [
        "round(train_df['Spa'].describe(), 2)"
      ]
    },
    {
      "cell_type": "code",
      "execution_count": null,
      "id": "7358ec10",
      "metadata": {
        "execution": {
          "iopub.execute_input": "2022-08-10T12:02:12.512347Z",
          "iopub.status.busy": "2022-08-10T12:02:12.511917Z",
          "iopub.status.idle": "2022-08-10T12:02:13.027463Z",
          "shell.execute_reply": "2022-08-10T12:02:13.026323Z"
        },
        "id": "7358ec10",
        "outputId": "c516aebc-afc9-4a5e-e260-37bdc0a0c9cf",
        "papermill": {
          "duration": 0.559674,
          "end_time": "2022-08-10T12:02:13.030167",
          "exception": false,
          "start_time": "2022-08-10T12:02:12.470493",
          "status": "completed"
        },
        "tags": []
      },
      "outputs": [
        {
          "data": {
            "image/png": "[encoded data removed]",
            "text/plain": [
              "<Figure size 720x432 with 1 Axes>"
            ]
          },
          "metadata": {
            "needs_background": "light"
          },
          "output_type": "display_data"
        }
      ],
      "source": [
        "train_df['Spa'].plot(kind='hist',\n",
        "                     log=True,\n",
        "                     bins=20,\n",
        "                     title='Distribution of Passenger Spa Spend -- Train Data, Log Scale',\n",
        "                     figsize=(10,6))\n",
        "plt.show()"
      ]
    },
    {
      "cell_type": "code",
      "execution_count": null,
      "id": "94398109",
      "metadata": {
        "execution": {
          "iopub.execute_input": "2022-08-10T12:02:13.113000Z",
          "iopub.status.busy": "2022-08-10T12:02:13.111716Z",
          "iopub.status.idle": "2022-08-10T12:02:13.120155Z",
          "shell.execute_reply": "2022-08-10T12:02:13.119165Z"
        },
        "id": "94398109",
        "outputId": "a3e50894-3d0f-45f1-84e0-fd2f3fa1933e",
        "papermill": {
          "duration": 0.052416,
          "end_time": "2022-08-10T12:02:13.122663",
          "exception": false,
          "start_time": "2022-08-10T12:02:13.070247",
          "status": "completed"
        },
        "tags": []
      },
      "outputs": [
        {
          "name": "stdout",
          "output_type": "stream",
          "text": [
            "Percentage of passengers spending any money at the spa: 0.37\n"
          ]
        }
      ],
      "source": [
        "print('Percentage of passengers spending any money at the spa:', \n",
        "  round(train_df[train_df['Spa'] > 0].shape[0] / train_df.shape[0], 2))"
      ]
    },
    {
      "cell_type": "code",
      "execution_count": null,
      "id": "cd8de373",
      "metadata": {
        "execution": {
          "iopub.execute_input": "2022-08-10T12:02:13.204015Z",
          "iopub.status.busy": "2022-08-10T12:02:13.202947Z",
          "iopub.status.idle": "2022-08-10T12:02:13.406158Z",
          "shell.execute_reply": "2022-08-10T12:02:13.404830Z"
        },
        "id": "cd8de373",
        "outputId": "d8113680-22f0-4b9d-c806-49b9f45deb60",
        "papermill": {
          "duration": 0.246275,
          "end_time": "2022-08-10T12:02:13.408935",
          "exception": false,
          "start_time": "2022-08-10T12:02:13.162660",
          "status": "completed"
        },
        "tags": []
      },
      "outputs": [
        {
          "data": {
            "image/png": "[encoded data removed]",
            "text/plain": [
              "<Figure size 720x360 with 1 Axes>"
            ]
          },
          "metadata": {
            "needs_background": "light"
          },
          "output_type": "display_data"
        }
      ],
      "source": [
        "(\n",
        "    train_df[train_df['Spa'] > 0][['Spa', 'Transported']]\n",
        "    .groupby('Transported')\n",
        "    .agg('median')\n",
        "    .plot(kind='barh',\n",
        "        figsize=(10,5),\n",
        "        color=['r', 'b'],\n",
        "        title='Passengers who Spent Any Money at the Spa  -- Train Data')\n",
        ")\n",
        "plt.show()"
      ]
    },
    {
      "cell_type": "markdown",
      "id": "fa158268",
      "metadata": {
        "id": "fa158268",
        "papermill": {
          "duration": 0.039216,
          "end_time": "2022-08-10T12:02:13.488629",
          "exception": false,
          "start_time": "2022-08-10T12:02:13.449413",
          "status": "completed"
        },
        "tags": []
      },
      "source": [
        "**Analysis of Customer Spa Spend**\n",
        "* Slightly more than one-third of passengers spent money at the spa.\n",
        "* As with the other spend categories, Spa spend is heavily skewed by a few high-spending passengers.\n",
        "* Passengers who spent money at the Spa appear much less likely to be transported than the overall population. "
      ]
    },
    {
      "cell_type": "markdown",
      "id": "21104e14",
      "metadata": {
        "id": "21104e14",
        "papermill": {
          "duration": 0.039126,
          "end_time": "2022-08-10T12:02:13.567392",
          "exception": false,
          "start_time": "2022-08-10T12:02:13.528266",
          "status": "completed"
        },
        "tags": []
      },
      "source": [
        "### VR Deck"
      ]
    },
    {
      "cell_type": "code",
      "execution_count": null,
      "id": "6a481ee7",
      "metadata": {
        "execution": {
          "iopub.execute_input": "2022-08-10T12:02:13.647472Z",
          "iopub.status.busy": "2022-08-10T12:02:13.647056Z",
          "iopub.status.idle": "2022-08-10T12:02:13.659014Z",
          "shell.execute_reply": "2022-08-10T12:02:13.657634Z"
        },
        "id": "6a481ee7",
        "outputId": "1ac1f470-3eab-45e6-91a7-51ca263f9f9e",
        "papermill": {
          "duration": 0.055191,
          "end_time": "2022-08-10T12:02:13.661756",
          "exception": false,
          "start_time": "2022-08-10T12:02:13.606565",
          "status": "completed"
        },
        "tags": []
      },
      "outputs": [
        {
          "data": {
            "text/plain": [
              "count     8693.00\n",
              "mean       298.26\n",
              "std       1134.13\n",
              "min          0.00\n",
              "25%          0.00\n",
              "50%          0.00\n",
              "75%         40.00\n",
              "max      24133.00\n",
              "Name: VRDeck, dtype: float64"
            ]
          },
          "execution_count": 60,
          "metadata": {},
          "output_type": "execute_result"
        }
      ],
      "source": [
        "round(train_df['VRDeck'].describe(), 2)"
      ]
    },
    {
      "cell_type": "code",
      "execution_count": null,
      "id": "82aff90d",
      "metadata": {
        "execution": {
          "iopub.execute_input": "2022-08-10T12:02:13.744230Z",
          "iopub.status.busy": "2022-08-10T12:02:13.743794Z",
          "iopub.status.idle": "2022-08-10T12:02:14.286238Z",
          "shell.execute_reply": "2022-08-10T12:02:14.284975Z"
        },
        "id": "82aff90d",
        "outputId": "6c8c0bc9-1704-464e-817c-a0e7c5554750",
        "papermill": {
          "duration": 0.588017,
          "end_time": "2022-08-10T12:02:14.288923",
          "exception": false,
          "start_time": "2022-08-10T12:02:13.700906",
          "status": "completed"
        },
        "tags": []
      },
      "outputs": [
        {
          "data": {
            "image/png": "[encoded data removed]",
            "text/plain": [
              "<Figure size 720x432 with 1 Axes>"
            ]
          },
          "metadata": {
            "needs_background": "light"
          },
          "output_type": "display_data"
        }
      ],
      "source": [
        "train_df['VRDeck'].plot(kind='hist',\n",
        "                     log=True,\n",
        "                     bins=20,\n",
        "                     title='Distribution of Passenger VRDeck Spend -- Train Data, Log Scale',\n",
        "                     figsize=(10,6))\n",
        "plt.show()"
      ]
    },
    {
      "cell_type": "code",
      "execution_count": null,
      "id": "ebcd57db",
      "metadata": {
        "execution": {
          "iopub.execute_input": "2022-08-10T12:02:14.371250Z",
          "iopub.status.busy": "2022-08-10T12:02:14.370800Z",
          "iopub.status.idle": "2022-08-10T12:02:14.380256Z",
          "shell.execute_reply": "2022-08-10T12:02:14.378862Z"
        },
        "id": "ebcd57db",
        "outputId": "c7bcccaf-62b4-4235-8009-f151698c8373",
        "papermill": {
          "duration": 0.053864,
          "end_time": "2022-08-10T12:02:14.382773",
          "exception": false,
          "start_time": "2022-08-10T12:02:14.328909",
          "status": "completed"
        },
        "tags": []
      },
      "outputs": [
        {
          "name": "stdout",
          "output_type": "stream",
          "text": [
            "Percentage of passengers spending any money at the VR Deck: 0.35\n"
          ]
        }
      ],
      "source": [
        "print('Percentage of passengers spending any money at the VR Deck:', \n",
        "  round(train_df[train_df['VRDeck'] > 0].shape[0] / train_df.shape[0], 2))"
      ]
    },
    {
      "cell_type": "code",
      "execution_count": null,
      "id": "884438f8",
      "metadata": {
        "execution": {
          "iopub.execute_input": "2022-08-10T12:02:14.465584Z",
          "iopub.status.busy": "2022-08-10T12:02:14.464351Z",
          "iopub.status.idle": "2022-08-10T12:02:14.667935Z",
          "shell.execute_reply": "2022-08-10T12:02:14.666644Z"
        },
        "id": "884438f8",
        "outputId": "d37631ee-2ba0-42ec-fc7a-bf51f845f5bc",
        "papermill": {
          "duration": 0.247128,
          "end_time": "2022-08-10T12:02:14.670608",
          "exception": false,
          "start_time": "2022-08-10T12:02:14.423480",
          "status": "completed"
        },
        "tags": []
      },
      "outputs": [
        {
          "data": {
            "image/png": "[encoded data removed]",
            "text/plain": [
              "<Figure size 720x360 with 1 Axes>"
            ]
          },
          "metadata": {
            "needs_background": "light"
          },
          "output_type": "display_data"
        }
      ],
      "source": [
        "(\n",
        "    train_df[train_df['VRDeck'] > 0][['VRDeck', 'Transported']]\n",
        "    .groupby('Transported')\n",
        "    .agg('median')\n",
        "    .plot(kind='barh',\n",
        "        figsize=(10,5),\n",
        "        color=['r', 'b'],\n",
        "        title='Passengers who Spent Any Money at the VR Deck  -- Train Data')\n",
        ")\n",
        "plt.show()"
      ]
    },
    {
      "cell_type": "markdown",
      "id": "5b8da869",
      "metadata": {
        "id": "5b8da869",
        "papermill": {
          "duration": 0.040481,
          "end_time": "2022-08-10T12:02:14.750965",
          "exception": false,
          "start_time": "2022-08-10T12:02:14.710484",
          "status": "completed"
        },
        "tags": []
      },
      "source": [
        "**Analysis of Customer VR Deck Spend**\n",
        "* Slightly more than one-third of passengers spent money at the VR Deck.\n",
        "* As with the other spend categories, VR Deck spend is heavily skewed by a few high-spending passengers.\n",
        "* Passengers who spent money at the VR Deck appear much less likely to be transported than the overall population. "
      ]
    },
    {
      "cell_type": "markdown",
      "id": "695c024b",
      "metadata": {
        "id": "695c024b",
        "papermill": {
          "duration": 0.040723,
          "end_time": "2022-08-10T12:02:14.832674",
          "exception": false,
          "start_time": "2022-08-10T12:02:14.791951",
          "status": "completed"
        },
        "tags": []
      },
      "source": [
        "## Finalize Data for ML Models"
      ]
    },
    {
      "cell_type": "markdown",
      "id": "13d999f6",
      "metadata": {
        "id": "13d999f6",
        "papermill": {
          "duration": 0.04101,
          "end_time": "2022-08-10T12:02:14.913594",
          "exception": false,
          "start_time": "2022-08-10T12:02:14.872584",
          "status": "completed"
        },
        "tags": []
      },
      "source": [
        "### One-Hot Encoding"
      ]
    },
    {
      "cell_type": "code",
      "execution_count": null,
      "id": "a038bf21",
      "metadata": {
        "execution": {
          "iopub.execute_input": "2022-08-10T12:02:14.997681Z",
          "iopub.status.busy": "2022-08-10T12:02:14.997251Z",
          "iopub.status.idle": "2022-08-10T12:02:15.005400Z",
          "shell.execute_reply": "2022-08-10T12:02:15.004062Z"
        },
        "id": "a038bf21",
        "outputId": "38003c00-11be-4f10-80ba-b821d1a7d156",
        "papermill": {
          "duration": 0.05354,
          "end_time": "2022-08-10T12:02:15.008306",
          "exception": false,
          "start_time": "2022-08-10T12:02:14.954766",
          "status": "completed"
        },
        "tags": []
      },
      "outputs": [
        {
          "data": {
            "text/plain": [
              "(8693,)"
            ]
          },
          "execution_count": 64,
          "metadata": {},
          "output_type": "execute_result"
        }
      ],
      "source": [
        "# create y as the target value \n",
        "y = train_df['Transported']\n",
        "y.shape"
      ]
    },
    {
      "cell_type": "code",
      "execution_count": null,
      "id": "34599c33",
      "metadata": {
        "execution": {
          "iopub.execute_input": "2022-08-10T12:02:15.093698Z",
          "iopub.status.busy": "2022-08-10T12:02:15.093240Z",
          "iopub.status.idle": "2022-08-10T12:02:15.101641Z",
          "shell.execute_reply": "2022-08-10T12:02:15.100445Z"
        },
        "id": "34599c33",
        "outputId": "dca59069-4b3d-49c5-8ec0-08c7c522db96",
        "papermill": {
          "duration": 0.05499,
          "end_time": "2022-08-10T12:02:15.104103",
          "exception": false,
          "start_time": "2022-08-10T12:02:15.049113",
          "status": "completed"
        },
        "tags": []
      },
      "outputs": [
        {
          "data": {
            "text/plain": [
              "13"
            ]
          },
          "execution_count": 65,
          "metadata": {},
          "output_type": "execute_result"
        }
      ],
      "source": [
        "# features to use for the model \n",
        "train_features = ['HomePlanet', 'CryoSleep', 'Destination', 'VIP',\n",
        "                  'Group_Size', 'Cabin_Deck', 'Cabin_Side',\n",
        "                  'Age', 'RoomService', 'FoodCourt', 'ShoppingMall', 'Spa', 'VRDeck']\n",
        "\n",
        "len(train_features)"
      ]
    },
    {
      "cell_type": "code",
      "execution_count": null,
      "id": "6799bfa6",
      "metadata": {
        "execution": {
          "iopub.execute_input": "2022-08-10T12:02:15.187827Z",
          "iopub.status.busy": "2022-08-10T12:02:15.187452Z",
          "iopub.status.idle": "2022-08-10T12:02:15.204423Z",
          "shell.execute_reply": "2022-08-10T12:02:15.203487Z"
        },
        "id": "6799bfa6",
        "outputId": "c1993cfc-b098-4a69-fc1b-e9642a0d984e",
        "papermill": {
          "duration": 0.062155,
          "end_time": "2022-08-10T12:02:15.206678",
          "exception": false,
          "start_time": "2022-08-10T12:02:15.144523",
          "status": "completed"
        },
        "tags": []
      },
      "outputs": [
        {
          "data": {
            "text/plain": [
              "(8693, 23)"
            ]
          },
          "execution_count": 66,
          "metadata": {},
          "output_type": "execute_result"
        }
      ],
      "source": [
        "# generate dummy variables from categoricals \n",
        "X = pd.get_dummies(train_df[train_features], drop_first=True)\n",
        "X.shape\n"
      ]
    },
    {
      "cell_type": "code",
      "execution_count": null,
      "id": "288914ca",
      "metadata": {
        "execution": {
          "iopub.execute_input": "2022-08-10T12:02:15.291279Z",
          "iopub.status.busy": "2022-08-10T12:02:15.290800Z",
          "iopub.status.idle": "2022-08-10T12:02:15.314400Z",
          "shell.execute_reply": "2022-08-10T12:02:15.313054Z"
        },
        "id": "288914ca",
        "outputId": "424e2994-5d43-4430-93d8-8021d539d04f",
        "papermill": {
          "duration": 0.070162,
          "end_time": "2022-08-10T12:02:15.317653",
          "exception": false,
          "start_time": "2022-08-10T12:02:15.247491",
          "status": "completed"
        },
        "tags": []
      },
      "outputs": [
        {
          "data": {
            "text/html": [
              "<div>\n",
              "<style scoped>\n",
              "    .dataframe tbody tr th:only-of-type {\n",
              "        vertical-align: middle;\n",
              "    }\n",
              "\n",
              "    .dataframe tbody tr th {\n",
              "        vertical-align: top;\n",
              "    }\n",
              "\n",
              "    .dataframe thead th {\n",
              "        text-align: right;\n",
              "    }\n",
              "</style>\n",
              "<table border=\"1\" class=\"dataframe\">\n",
              "  <thead>\n",
              "    <tr style=\"text-align: right;\">\n",
              "      <th></th>\n",
              "      <th>CryoSleep</th>\n",
              "      <th>VIP</th>\n",
              "      <th>Group_Size</th>\n",
              "      <th>Age</th>\n",
              "      <th>RoomService</th>\n",
              "      <th>FoodCourt</th>\n",
              "      <th>ShoppingMall</th>\n",
              "      <th>Spa</th>\n",
              "      <th>VRDeck</th>\n",
              "      <th>HomePlanet_Europa</th>\n",
              "      <th>HomePlanet_Mars</th>\n",
              "      <th>Destination_PSO J318.5-22</th>\n",
              "      <th>Destination_TRAPPIST-1e</th>\n",
              "      <th>Cabin_Deck_B</th>\n",
              "      <th>Cabin_Deck_C</th>\n",
              "      <th>Cabin_Deck_D</th>\n",
              "      <th>Cabin_Deck_E</th>\n",
              "      <th>Cabin_Deck_F</th>\n",
              "      <th>Cabin_Deck_G</th>\n",
              "      <th>Cabin_Deck_T</th>\n",
              "      <th>Cabin_Deck_Z</th>\n",
              "      <th>Cabin_Side_S</th>\n",
              "      <th>Cabin_Side_Z</th>\n",
              "    </tr>\n",
              "  </thead>\n",
              "  <tbody>\n",
              "    <tr>\n",
              "      <th>0</th>\n",
              "      <td>False</td>\n",
              "      <td>False</td>\n",
              "      <td>1</td>\n",
              "      <td>39.0</td>\n",
              "      <td>0.0</td>\n",
              "      <td>0.0</td>\n",
              "      <td>0.0</td>\n",
              "      <td>0.0</td>\n",
              "      <td>0.0</td>\n",
              "      <td>1</td>\n",
              "      <td>0</td>\n",
              "      <td>0</td>\n",
              "      <td>1</td>\n",
              "      <td>1</td>\n",
              "      <td>0</td>\n",
              "      <td>0</td>\n",
              "      <td>0</td>\n",
              "      <td>0</td>\n",
              "      <td>0</td>\n",
              "      <td>0</td>\n",
              "      <td>0</td>\n",
              "      <td>0</td>\n",
              "      <td>0</td>\n",
              "    </tr>\n",
              "    <tr>\n",
              "      <th>1</th>\n",
              "      <td>False</td>\n",
              "      <td>False</td>\n",
              "      <td>1</td>\n",
              "      <td>24.0</td>\n",
              "      <td>109.0</td>\n",
              "      <td>9.0</td>\n",
              "      <td>25.0</td>\n",
              "      <td>549.0</td>\n",
              "      <td>44.0</td>\n",
              "      <td>0</td>\n",
              "      <td>0</td>\n",
              "      <td>0</td>\n",
              "      <td>1</td>\n",
              "      <td>0</td>\n",
              "      <td>0</td>\n",
              "      <td>0</td>\n",
              "      <td>0</td>\n",
              "      <td>1</td>\n",
              "      <td>0</td>\n",
              "      <td>0</td>\n",
              "      <td>0</td>\n",
              "      <td>1</td>\n",
              "      <td>0</td>\n",
              "    </tr>\n",
              "    <tr>\n",
              "      <th>2</th>\n",
              "      <td>False</td>\n",
              "      <td>True</td>\n",
              "      <td>2</td>\n",
              "      <td>58.0</td>\n",
              "      <td>43.0</td>\n",
              "      <td>3576.0</td>\n",
              "      <td>0.0</td>\n",
              "      <td>6715.0</td>\n",
              "      <td>49.0</td>\n",
              "      <td>1</td>\n",
              "      <td>0</td>\n",
              "      <td>0</td>\n",
              "      <td>1</td>\n",
              "      <td>0</td>\n",
              "      <td>0</td>\n",
              "      <td>0</td>\n",
              "      <td>0</td>\n",
              "      <td>0</td>\n",
              "      <td>0</td>\n",
              "      <td>0</td>\n",
              "      <td>0</td>\n",
              "      <td>1</td>\n",
              "      <td>0</td>\n",
              "    </tr>\n",
              "    <tr>\n",
              "      <th>3</th>\n",
              "      <td>False</td>\n",
              "      <td>False</td>\n",
              "      <td>2</td>\n",
              "      <td>33.0</td>\n",
              "      <td>0.0</td>\n",
              "      <td>1283.0</td>\n",
              "      <td>371.0</td>\n",
              "      <td>3329.0</td>\n",
              "      <td>193.0</td>\n",
              "      <td>1</td>\n",
              "      <td>0</td>\n",
              "      <td>0</td>\n",
              "      <td>1</td>\n",
              "      <td>0</td>\n",
              "      <td>0</td>\n",
              "      <td>0</td>\n",
              "      <td>0</td>\n",
              "      <td>0</td>\n",
              "      <td>0</td>\n",
              "      <td>0</td>\n",
              "      <td>0</td>\n",
              "      <td>1</td>\n",
              "      <td>0</td>\n",
              "    </tr>\n",
              "    <tr>\n",
              "      <th>4</th>\n",
              "      <td>False</td>\n",
              "      <td>False</td>\n",
              "      <td>1</td>\n",
              "      <td>16.0</td>\n",
              "      <td>303.0</td>\n",
              "      <td>70.0</td>\n",
              "      <td>151.0</td>\n",
              "      <td>565.0</td>\n",
              "      <td>2.0</td>\n",
              "      <td>0</td>\n",
              "      <td>0</td>\n",
              "      <td>0</td>\n",
              "      <td>1</td>\n",
              "      <td>0</td>\n",
              "      <td>0</td>\n",
              "      <td>0</td>\n",
              "      <td>0</td>\n",
              "      <td>1</td>\n",
              "      <td>0</td>\n",
              "      <td>0</td>\n",
              "      <td>0</td>\n",
              "      <td>1</td>\n",
              "      <td>0</td>\n",
              "    </tr>\n",
              "  </tbody>\n",
              "</table>\n",
              "</div>"
            ],
            "text/plain": [
              "   CryoSleep    VIP  Group_Size   Age  RoomService  FoodCourt  ShoppingMall  \\\n",
              "0      False  False           1  39.0          0.0        0.0           0.0   \n",
              "1      False  False           1  24.0        109.0        9.0          25.0   \n",
              "2      False   True           2  58.0         43.0     3576.0           0.0   \n",
              "3      False  False           2  33.0          0.0     1283.0         371.0   \n",
              "4      False  False           1  16.0        303.0       70.0         151.0   \n",
              "\n",
              "      Spa  VRDeck  HomePlanet_Europa  HomePlanet_Mars  \\\n",
              "0     0.0     0.0                  1                0   \n",
              "1   549.0    44.0                  0                0   \n",
              "2  6715.0    49.0                  1                0   \n",
              "3  3329.0   193.0                  1                0   \n",
              "4   565.0     2.0                  0                0   \n",
              "\n",
              "   Destination_PSO J318.5-22  Destination_TRAPPIST-1e  Cabin_Deck_B  \\\n",
              "0                          0                        1             1   \n",
              "1                          0                        1             0   \n",
              "2                          0                        1             0   \n",
              "3                          0                        1             0   \n",
              "4                          0                        1             0   \n",
              "\n",
              "   Cabin_Deck_C  Cabin_Deck_D  Cabin_Deck_E  Cabin_Deck_F  Cabin_Deck_G  \\\n",
              "0             0             0             0             0             0   \n",
              "1             0             0             0             1             0   \n",
              "2             0             0             0             0             0   \n",
              "3             0             0             0             0             0   \n",
              "4             0             0             0             1             0   \n",
              "\n",
              "   Cabin_Deck_T  Cabin_Deck_Z  Cabin_Side_S  Cabin_Side_Z  \n",
              "0             0             0             0             0  \n",
              "1             0             0             1             0  \n",
              "2             0             0             1             0  \n",
              "3             0             0             1             0  \n",
              "4             0             0             1             0  "
            ]
          },
          "execution_count": 67,
          "metadata": {},
          "output_type": "execute_result"
        }
      ],
      "source": [
        "X.head()"
      ]
    },
    {
      "cell_type": "code",
      "execution_count": null,
      "id": "7cf86391",
      "metadata": {
        "execution": {
          "iopub.execute_input": "2022-08-10T12:02:15.410357Z",
          "iopub.status.busy": "2022-08-10T12:02:15.409450Z",
          "iopub.status.idle": "2022-08-10T12:02:15.426831Z",
          "shell.execute_reply": "2022-08-10T12:02:15.425586Z"
        },
        "id": "7cf86391",
        "outputId": "f54861fa-7414-4f37-f6d4-28f19627d90a",
        "papermill": {
          "duration": 0.065354,
          "end_time": "2022-08-10T12:02:15.429273",
          "exception": false,
          "start_time": "2022-08-10T12:02:15.363919",
          "status": "completed"
        },
        "tags": []
      },
      "outputs": [
        {
          "data": {
            "text/plain": [
              "(4277, 23)"
            ]
          },
          "execution_count": 68,
          "metadata": {},
          "output_type": "execute_result"
        }
      ],
      "source": [
        "X_test = pd.get_dummies(test_df[train_features], drop_first=True)\n",
        "X_test.shape"
      ]
    },
    {
      "cell_type": "code",
      "execution_count": null,
      "id": "01f4a3eb",
      "metadata": {
        "execution": {
          "iopub.execute_input": "2022-08-10T12:02:15.523452Z",
          "iopub.status.busy": "2022-08-10T12:02:15.522627Z",
          "iopub.status.idle": "2022-08-10T12:02:15.530496Z",
          "shell.execute_reply": "2022-08-10T12:02:15.529415Z"
        },
        "id": "01f4a3eb",
        "outputId": "541060ca-23fd-495d-94fd-f5c90fe0121f",
        "papermill": {
          "duration": 0.062769,
          "end_time": "2022-08-10T12:02:15.533024",
          "exception": false,
          "start_time": "2022-08-10T12:02:15.470255",
          "status": "completed"
        },
        "tags": []
      },
      "outputs": [
        {
          "data": {
            "text/plain": [
              "[]"
            ]
          },
          "execution_count": 69,
          "metadata": {},
          "output_type": "execute_result"
        }
      ],
      "source": [
        "# confirm same columns; identify any discrepancies\n",
        "[col for col in list(X.columns) if col not in list(X_test.columns)]\n"
      ]
    },
    {
      "cell_type": "markdown",
      "id": "d22afa92",
      "metadata": {
        "id": "d22afa92",
        "papermill": {
          "duration": 0.042285,
          "end_time": "2022-08-10T12:02:15.618648",
          "exception": false,
          "start_time": "2022-08-10T12:02:15.576363",
          "status": "completed"
        },
        "tags": []
      },
      "source": [
        "### Check Feature Correlation"
      ]
    },
    {
      "cell_type": "code",
      "execution_count": null,
      "id": "25fd9679",
      "metadata": {
        "execution": {
          "iopub.execute_input": "2022-08-10T12:02:15.720828Z",
          "iopub.status.busy": "2022-08-10T12:02:15.719959Z",
          "iopub.status.idle": "2022-08-10T12:02:18.571380Z",
          "shell.execute_reply": "2022-08-10T12:02:18.570366Z"
        },
        "id": "25fd9679",
        "outputId": "68942511-e377-4ed1-b63d-24fee40ce8a7",
        "papermill": {
          "duration": 2.910621,
          "end_time": "2022-08-10T12:02:18.577190",
          "exception": false,
          "start_time": "2022-08-10T12:02:15.666569",
          "status": "completed"
        },
        "tags": []
      },
      "outputs": [
        {
          "data": {
            "image/png": "[encoded data removed]",
            "text/plain": [
              "<Figure size 1296x1008 with 2 Axes>"
            ]
          },
          "metadata": {
            "needs_background": "light"
          },
          "output_type": "display_data"
        }
      ],
      "source": [
        "# correlation map of the fatures \n",
        "colormap = plt.cm.RdBu\n",
        "plt.figure(figsize=(18,14))\n",
        "plt.title('Pearson Correlation of Features', y=1.05, size=15)\n",
        "sns.heatmap(X.astype(float).corr(),\n",
        "            linewidths=0.1,\n",
        "            vmax=1.0, \n",
        "            square=True, \n",
        "            cmap=colormap, \n",
        "            linecolor='white', \n",
        "            annot=True)\n",
        "\n",
        "plt.show()"
      ]
    },
    {
      "cell_type": "markdown",
      "id": "f813eda5",
      "metadata": {
        "id": "f813eda5",
        "papermill": {
          "duration": 0.045073,
          "end_time": "2022-08-10T12:02:18.670199",
          "exception": false,
          "start_time": "2022-08-10T12:02:18.625126",
          "status": "completed"
        },
        "tags": []
      },
      "source": [
        "## Train Random Forest Model"
      ]
    },
    {
      "cell_type": "markdown",
      "id": "6b83c709",
      "metadata": {
        "id": "6b83c709",
        "papermill": {
          "duration": 0.045829,
          "end_time": "2022-08-10T12:02:18.762028",
          "exception": false,
          "start_time": "2022-08-10T12:02:18.716199",
          "status": "completed"
        },
        "tags": []
      },
      "source": [
        "### Identify Optimal RF Parameters"
      ]
    },
    {
      "cell_type": "markdown",
      "id": "2d0aa6cb",
      "metadata": {
        "id": "2d0aa6cb",
        "papermill": {
          "duration": 0.04524,
          "end_time": "2022-08-10T12:02:18.853162",
          "exception": false,
          "start_time": "2022-08-10T12:02:18.807922",
          "status": "completed"
        },
        "tags": []
      },
      "source": [
        "**Establish RandomizedSearchCV**"
      ]
    },
    {
      "cell_type": "code",
      "execution_count": null,
      "id": "d6306bef",
      "metadata": {
        "execution": {
          "iopub.execute_input": "2022-08-10T12:02:18.949267Z",
          "iopub.status.busy": "2022-08-10T12:02:18.947970Z",
          "iopub.status.idle": "2022-08-10T12:02:18.953434Z",
          "shell.execute_reply": "2022-08-10T12:02:18.952305Z"
        },
        "id": "d6306bef",
        "papermill": {
          "duration": 0.056239,
          "end_time": "2022-08-10T12:02:18.956068",
          "exception": false,
          "start_time": "2022-08-10T12:02:18.899829",
          "status": "completed"
        },
        "tags": []
      },
      "outputs": [],
      "source": [
        "# rf_model_cv = RandomForestClassifier(oob_score=True, random_state=1, n_jobs=-1)\n",
        "\n",
        "# param_grid_rf = {'criterion' : [\"gini\", \"entropy\"], \n",
        "#                  'max_features': ['log2', 'sqrt', None],\n",
        "#                  'max_depth': [2, 4, 8, 16, 32, 64],\n",
        "#                  'min_samples_leaf' : [1, 5, 10, 20], \n",
        "#                  'min_samples_split' : [2, 4, 10, 14, 18], \n",
        "#                  'n_estimators': [100, 200, 300, 400, 500]}\n",
        "\n",
        "# gs_rf = RandomizedSearchCV(estimator=rf_model_cv, \n",
        "#                            param_distributions=param_grid_rf, \n",
        "#                            scoring='accuracy', \n",
        "#                            n_iter = 100,\n",
        "#                            cv=5, \n",
        "#                            n_jobs=-1)\n",
        "\n",
        "# gs_rf.fit(X.values, y)"
      ]
    },
    {
      "cell_type": "markdown",
      "id": "f05beb39",
      "metadata": {
        "id": "f05beb39",
        "papermill": {
          "duration": 0.04541,
          "end_time": "2022-08-10T12:02:19.047905",
          "exception": false,
          "start_time": "2022-08-10T12:02:19.002495",
          "status": "completed"
        },
        "tags": []
      },
      "source": [
        "**Identify Best Estimator and Features**"
      ]
    },
    {
      "cell_type": "code",
      "execution_count": null,
      "id": "7eb8143e",
      "metadata": {
        "execution": {
          "iopub.execute_input": "2022-08-10T12:02:19.157178Z",
          "iopub.status.busy": "2022-08-10T12:02:19.156615Z",
          "iopub.status.idle": "2022-08-10T12:02:19.163119Z",
          "shell.execute_reply": "2022-08-10T12:02:19.161673Z"
        },
        "id": "7eb8143e",
        "papermill": {
          "duration": 0.065925,
          "end_time": "2022-08-10T12:02:19.165679",
          "exception": false,
          "start_time": "2022-08-10T12:02:19.099754",
          "status": "completed"
        },
        "tags": []
      },
      "outputs": [],
      "source": [
        "# print(gs_rf.best_estimator_)"
      ]
    },
    {
      "cell_type": "code",
      "execution_count": null,
      "id": "7423e0a4",
      "metadata": {
        "execution": {
          "iopub.execute_input": "2022-08-10T12:02:19.259769Z",
          "iopub.status.busy": "2022-08-10T12:02:19.258995Z",
          "iopub.status.idle": "2022-08-10T12:02:19.263080Z",
          "shell.execute_reply": "2022-08-10T12:02:19.262230Z"
        },
        "id": "7423e0a4",
        "papermill": {
          "duration": 0.053342,
          "end_time": "2022-08-10T12:02:19.265449",
          "exception": false,
          "start_time": "2022-08-10T12:02:19.212107",
          "status": "completed"
        },
        "tags": []
      },
      "outputs": [],
      "source": [
        "# print(gs_rf.best_params_)"
      ]
    },
    {
      "cell_type": "code",
      "execution_count": null,
      "id": "53c8ef2f",
      "metadata": {
        "execution": {
          "iopub.execute_input": "2022-08-10T12:02:19.359882Z",
          "iopub.status.busy": "2022-08-10T12:02:19.359167Z",
          "iopub.status.idle": "2022-08-10T12:02:19.363951Z",
          "shell.execute_reply": "2022-08-10T12:02:19.362805Z"
        },
        "id": "53c8ef2f",
        "papermill": {
          "duration": 0.055539,
          "end_time": "2022-08-10T12:02:19.366524",
          "exception": false,
          "start_time": "2022-08-10T12:02:19.310985",
          "status": "completed"
        },
        "tags": []
      },
      "outputs": [],
      "source": [
        "# print(round(gs_rf.best_score_, 4))"
      ]
    },
    {
      "cell_type": "markdown",
      "id": "de7ac7ac",
      "metadata": {
        "papermill": {
          "duration": 0.044821,
          "end_time": "2022-08-10T12:02:19.456448",
          "exception": false,
          "start_time": "2022-08-10T12:02:19.411627",
          "status": "completed"
        },
        "tags": [],
        "id": "de7ac7ac"
      },
      "source": [
        "**Model Parameters**\n",
        "Running the above code produced the following parameters with a best score of 0.8003\n",
        "* 'n_estimators': 300, \n",
        "* 'min_samples_split': 18, \n",
        "* 'min_samples_leaf': 5, \n",
        "* 'max_features': 'sqrt', \n",
        "* 'max_depth': 16, \n",
        "* 'criterion': 'entropy'"
      ]
    },
    {
      "cell_type": "markdown",
      "id": "adc63b00",
      "metadata": {
        "id": "adc63b00",
        "papermill": {
          "duration": 0.044942,
          "end_time": "2022-08-10T12:02:19.546246",
          "exception": false,
          "start_time": "2022-08-10T12:02:19.501304",
          "status": "completed"
        },
        "tags": []
      },
      "source": [
        "### Train Model"
      ]
    },
    {
      "cell_type": "code",
      "execution_count": null,
      "id": "20ff009f",
      "metadata": {
        "execution": {
          "iopub.execute_input": "2022-08-10T12:02:19.638925Z",
          "iopub.status.busy": "2022-08-10T12:02:19.637865Z",
          "iopub.status.idle": "2022-08-10T12:02:19.644146Z",
          "shell.execute_reply": "2022-08-10T12:02:19.643065Z"
        },
        "id": "20ff009f",
        "papermill": {
          "duration": 0.055184,
          "end_time": "2022-08-10T12:02:19.646530",
          "exception": false,
          "start_time": "2022-08-10T12:02:19.591346",
          "status": "completed"
        },
        "tags": []
      },
      "outputs": [],
      "source": [
        "# specify the model with optimal parameters\n",
        "rf_model = RandomForestClassifier(criterion='entropy', \n",
        "                                  n_estimators=300,\n",
        "                                  min_samples_split=18,\n",
        "                                  min_samples_leaf=5,\n",
        "                                  max_features='sqrt',\n",
        "                                  oob_score=True,\n",
        "                                  max_depth=16,\n",
        "                                  random_state=1,\n",
        "                                  n_jobs=-1)"
      ]
    },
    {
      "cell_type": "code",
      "execution_count": null,
      "id": "6f179db5",
      "metadata": {
        "execution": {
          "iopub.execute_input": "2022-08-10T12:02:19.739648Z",
          "iopub.status.busy": "2022-08-10T12:02:19.738863Z",
          "iopub.status.idle": "2022-08-10T12:02:21.954623Z",
          "shell.execute_reply": "2022-08-10T12:02:21.953630Z"
        },
        "id": "6f179db5",
        "papermill": {
          "duration": 2.265922,
          "end_time": "2022-08-10T12:02:21.957401",
          "exception": false,
          "start_time": "2022-08-10T12:02:19.691479",
          "status": "completed"
        },
        "tags": []
      },
      "outputs": [],
      "source": [
        "# fit to training data \n",
        "rf_model.fit(X.values, y)\n",
        "\n",
        "# predict on test data \n",
        "rf_predictions = rf_model.predict(X_test.values)\n"
      ]
    },
    {
      "cell_type": "markdown",
      "id": "9e3be20c",
      "metadata": {
        "id": "9e3be20c",
        "papermill": {
          "duration": 0.044844,
          "end_time": "2022-08-10T12:02:22.047440",
          "exception": false,
          "start_time": "2022-08-10T12:02:22.002596",
          "status": "completed"
        },
        "tags": []
      },
      "source": [
        "### Feature Importance"
      ]
    },
    {
      "cell_type": "code",
      "execution_count": null,
      "id": "ee262606",
      "metadata": {
        "execution": {
          "iopub.execute_input": "2022-08-10T12:02:22.139971Z",
          "iopub.status.busy": "2022-08-10T12:02:22.139586Z",
          "iopub.status.idle": "2022-08-10T12:02:22.567354Z",
          "shell.execute_reply": "2022-08-10T12:02:22.566092Z"
        },
        "id": "ee262606",
        "outputId": "e205baec-b030-4138-dcea-5fb07e992703",
        "papermill": {
          "duration": 0.477141,
          "end_time": "2022-08-10T12:02:22.570545",
          "exception": false,
          "start_time": "2022-08-10T12:02:22.093404",
          "status": "completed"
        },
        "tags": []
      },
      "outputs": [
        {
          "data": {
            "image/png": "[encoded data removed]",
            "text/plain": [
              "<Figure size 864x720 with 1 Axes>"
            ]
          },
          "metadata": {
            "needs_background": "light"
          },
          "output_type": "display_data"
        }
      ],
      "source": [
        "plt.figure(figsize = (12,10))\n",
        "\n",
        "plt.barh(X.columns, rf_model.feature_importances_)\n",
        "plt.title('Random Forest Model Feature Importance')\n",
        "plt.show()"
      ]
    },
    {
      "cell_type": "markdown",
      "id": "2e0da140",
      "metadata": {
        "id": "2e0da140",
        "papermill": {
          "duration": 0.045795,
          "end_time": "2022-08-10T12:02:22.665010",
          "exception": false,
          "start_time": "2022-08-10T12:02:22.619215",
          "status": "completed"
        },
        "tags": []
      },
      "source": [
        "### Analysis of Model and Feature Importance\n",
        "\n",
        "Plotting RF feature importance confirms much of the intuition we gained during the feature analysis, with additional wrinkles: \n",
        "* Whether the passenger was in CryoSleep or not stands out as an extremely important feature for this model. While only one-third of passengers were in CryoSleep, 80% of those passengers were transported.\n",
        "* Customer spend at various locations (Room Service, Spa, VR Deck, Food Court, and to a lesser extent the Shopping Mall) were also strong features, particularly the Spa. Our EDA showed major swings among customers who spent at these locations so it is not surprising they were important. \n",
        "* Other features contributed, but to lesser extent than those mentioned above. Age, Home Planet, and Group Size are notable additional features. A few Passenger Decks (F, G) and the Starboard side stick out as well. "
      ]
    },
    {
      "cell_type": "markdown",
      "id": "ab42855d",
      "metadata": {
        "id": "ab42855d",
        "papermill": {
          "duration": 0.045623,
          "end_time": "2022-08-10T12:02:22.757002",
          "exception": false,
          "start_time": "2022-08-10T12:02:22.711379",
          "status": "completed"
        },
        "tags": []
      },
      "source": [
        "## Final Output for Submission"
      ]
    },
    {
      "cell_type": "code",
      "execution_count": null,
      "id": "7ba5bb7e",
      "metadata": {
        "execution": {
          "iopub.execute_input": "2022-08-10T12:02:22.851847Z",
          "iopub.status.busy": "2022-08-10T12:02:22.851437Z",
          "iopub.status.idle": "2022-08-10T12:02:22.863361Z",
          "shell.execute_reply": "2022-08-10T12:02:22.862098Z"
        },
        "id": "7ba5bb7e",
        "outputId": "fc985a05-6b9e-445f-ae42-2e95566cbd1b",
        "papermill": {
          "duration": 0.062073,
          "end_time": "2022-08-10T12:02:22.865655",
          "exception": false,
          "start_time": "2022-08-10T12:02:22.803582",
          "status": "completed"
        },
        "tags": []
      },
      "outputs": [
        {
          "data": {
            "text/html": [
              "<div>\n",
              "<style scoped>\n",
              "    .dataframe tbody tr th:only-of-type {\n",
              "        vertical-align: middle;\n",
              "    }\n",
              "\n",
              "    .dataframe tbody tr th {\n",
              "        vertical-align: top;\n",
              "    }\n",
              "\n",
              "    .dataframe thead th {\n",
              "        text-align: right;\n",
              "    }\n",
              "</style>\n",
              "<table border=\"1\" class=\"dataframe\">\n",
              "  <thead>\n",
              "    <tr style=\"text-align: right;\">\n",
              "      <th></th>\n",
              "      <th>PassengerId</th>\n",
              "      <th>Transported</th>\n",
              "    </tr>\n",
              "  </thead>\n",
              "  <tbody>\n",
              "    <tr>\n",
              "      <th>0</th>\n",
              "      <td>0013_01</td>\n",
              "      <td>True</td>\n",
              "    </tr>\n",
              "    <tr>\n",
              "      <th>1</th>\n",
              "      <td>0018_01</td>\n",
              "      <td>False</td>\n",
              "    </tr>\n",
              "    <tr>\n",
              "      <th>2</th>\n",
              "      <td>0019_01</td>\n",
              "      <td>True</td>\n",
              "    </tr>\n",
              "    <tr>\n",
              "      <th>3</th>\n",
              "      <td>0021_01</td>\n",
              "      <td>True</td>\n",
              "    </tr>\n",
              "    <tr>\n",
              "      <th>4</th>\n",
              "      <td>0023_01</td>\n",
              "      <td>True</td>\n",
              "    </tr>\n",
              "  </tbody>\n",
              "</table>\n",
              "</div>"
            ],
            "text/plain": [
              "  PassengerId  Transported\n",
              "0     0013_01         True\n",
              "1     0018_01        False\n",
              "2     0019_01         True\n",
              "3     0021_01         True\n",
              "4     0023_01         True"
            ]
          },
          "execution_count": 78,
          "metadata": {},
          "output_type": "execute_result"
        }
      ],
      "source": [
        "output = pd.DataFrame({'PassengerId': test_df.PassengerId, 'Transported': rf_predictions})\n",
        "output.head()"
      ]
    },
    {
      "cell_type": "code",
      "execution_count": null,
      "id": "bdb6cc02",
      "metadata": {
        "execution": {
          "iopub.execute_input": "2022-08-10T12:02:22.960417Z",
          "iopub.status.busy": "2022-08-10T12:02:22.959985Z",
          "iopub.status.idle": "2022-08-10T12:02:22.974435Z",
          "shell.execute_reply": "2022-08-10T12:02:22.973085Z"
        },
        "id": "bdb6cc02",
        "papermill": {
          "duration": 0.064733,
          "end_time": "2022-08-10T12:02:22.977201",
          "exception": false,
          "start_time": "2022-08-10T12:02:22.912468",
          "status": "completed"
        },
        "tags": [],
        "outputId": "1a6aa2db-86c5-4d3e-fdb5-3eab1c7218f7"
      },
      "outputs": [
        {
          "name": "stdout",
          "output_type": "stream",
          "text": [
            "Your submission was successfully saved!\n"
          ]
        }
      ],
      "source": [
        "output.to_csv('submission.csv', index=False)\n",
        "print(\"Your submission was successfully saved!\")"
      ]
    },
    {
      "cell_type": "code",
      "execution_count": null,
      "id": "03eae844",
      "metadata": {
        "papermill": {
          "duration": 0.047761,
          "end_time": "2022-08-10T12:02:23.070648",
          "exception": false,
          "start_time": "2022-08-10T12:02:23.022887",
          "status": "completed"
        },
        "tags": [],
        "id": "03eae844"
      },
      "outputs": [],
      "source": []
    }
  ],
  "metadata": {
    "kernelspec": {
      "display_name": "Python 3",
      "language": "python",
      "name": "python3"
    },
    "language_info": {
      "codemirror_mode": {
        "name": "ipython",
        "version": 3
      },
      "file_extension": ".py",
      "mimetype": "text/x-python",
      "name": "python",
      "nbconvert_exporter": "python",
      "pygments_lexer": "ipython3",
      "version": "3.7.12"
    },
    "papermill": {
      "default_parameters": {},
      "duration": 105.157512,
      "end_time": "2022-08-10T12:02:23.940979",
      "environment_variables": {},
      "exception": null,
      "input_path": "__notebook__.ipynb",
      "output_path": "__notebook__.ipynb",
      "parameters": {},
      "start_time": "2022-08-10T12:00:38.783467",
      "version": "2.3.4"
    },
    "colab": {
      "provenance": [],
      "include_colab_link": true
    }
  },
  "nbformat": 4,
  "nbformat_minor": 5
}